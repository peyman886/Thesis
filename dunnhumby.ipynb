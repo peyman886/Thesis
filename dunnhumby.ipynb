{
  "cells": [
    {
      "cell_type": "markdown",
      "source": [
        "# Pakage\n",
        "import basic package"
      ],
      "metadata": {
        "id": "zQLso5xvtBDl"
      },
      "id": "zQLso5xvtBDl"
    },
    {
      "cell_type": "code",
      "source": [
        "import matplotlib.pyplot as plt\n",
        "import  seaborn as sns\n",
        "import pandas as pd\n",
        "import numpy as np\n",
        "sns.set_style(\"darkgrid\")\n",
        "\n",
        "import warnings\n",
        "warnings.filterwarnings(\"ignore\")\n"
      ],
      "metadata": {
        "id": "nDW7p9mftG6-"
      },
      "id": "nDW7p9mftG6-",
      "execution_count": 1,
      "outputs": []
    },
    {
      "cell_type": "code",
      "source": [
        "# Importing Libraries\n",
        "import os\n",
        "import numpy as np\n",
        "import pandas as pd\n",
        "import matplotlib.pyplot as plt\n",
        "import seaborn as sns\n",
        "import warnings\n",
        "from scipy import stats\n",
        "from IPython.core.interactiveshell import InteractiveShell\n",
        "import itertools\n",
        "\n",
        "# Libraries Settings\n",
        "warnings.simplefilter(action=\"ignore\", category=FutureWarning)\n",
        "warnings.simplefilter(action=\"ignore\", category=Warning)\n",
        "InteractiveShell.ast_node_interactivity = \"all\"\n",
        "%matplotlib inline\n",
        "np.set_printoptions(suppress=True)\n",
        "\n",
        "def set_seed(seed=42):\n",
        "    np.random.seed(seed)\n",
        "    os.environ[\"PYTHONHASHSEED\"] = str(seed)\n",
        "\n",
        "pd.set_option(\"display.width\", 100)\n",
        "pd.set_option(\"display.max_columns\", 60)\n",
        "pd.set_option(\"display.max_rows\", 25)\n",
        "pd.set_option(\"display.float_format\", lambda x: \"%.3f\" % x)\n",
        "\n",
        "sns.set_style(\"darkgrid\")\n",
        "\n",
        "# warnings.filterwarnings(\"ignore\")\n",
        "\n",
        "\n",
        "# Define a list of colors using seaborn's color_palette function\n",
        "colors = sns.color_palette(\"Set2\")\n",
        "\n",
        "# Create an iterator that cycles through the list of colors indefinitely\n",
        "color_iterator = itertools.cycle(colors)"
      ],
      "metadata": {
        "id": "7z2GPaM7uUcj"
      },
      "id": "7z2GPaM7uUcj",
      "execution_count": 23,
      "outputs": []
    },
    {
      "cell_type": "markdown",
      "source": [
        "# Dataset"
      ],
      "metadata": {
        "id": "Pxcfy-xtARcO"
      },
      "id": "Pxcfy-xtARcO"
    },
    {
      "cell_type": "markdown",
      "source": [
        "## Download"
      ],
      "metadata": {
        "id": "A4xpDXJ3-VYd"
      },
      "id": "A4xpDXJ3-VYd"
    },
    {
      "cell_type": "code",
      "source": [
        "import os\n",
        "if not os.path.isfile('dunnhumby-the-complete-journey.zip'):\n",
        "  ! gdown 1IJi61EmP6nXQ1V-aaIPujgawXcjTRRRU"
      ],
      "metadata": {
        "id": "ntRezFH2-UT9"
      },
      "execution_count": 2,
      "outputs": [],
      "id": "ntRezFH2-UT9"
    },
    {
      "cell_type": "markdown",
      "source": [
        "## Extract"
      ],
      "metadata": {
        "id": "28DKh8UrpmVe"
      },
      "id": "28DKh8UrpmVe"
    },
    {
      "cell_type": "code",
      "source": [
        "import zipfile\n",
        "\n",
        "# Path to the zip file\n",
        "zip_file_path = 'dunnhumby-the-complete-journey.zip'\n",
        "\n",
        "# Directory to extract the files\n",
        "extract_to_dir = 'dunnhumby-the-complete-journey/'\n",
        "\n",
        "# Extract the files from the zip file\n",
        "with zipfile.ZipFile(zip_file_path, 'r') as zip_ref:\n",
        "    zip_ref.extractall(extract_to_dir)"
      ],
      "metadata": {
        "id": "CDENzz3poayN"
      },
      "id": "CDENzz3poayN",
      "execution_count": 3,
      "outputs": []
    },
    {
      "cell_type": "markdown",
      "source": [
        "## Load"
      ],
      "metadata": {
        "id": "NO605eYApqBP"
      },
      "id": "NO605eYApqBP"
    },
    {
      "cell_type": "code",
      "source": [
        "# Create an empty dictionary to store the dataframes\n",
        "dfs = {}\n",
        "\n",
        "# Walk through the directory and read each CSV file into the dictionary\n",
        "for dirname, _, filenames in os.walk(extract_to_dir):\n",
        "    for filename in filenames:\n",
        "        if filename.endswith('.csv'):  # Ensure only CSV files are read\n",
        "            # Construct the full file path\n",
        "            file_path = os.path.join(dirname, filename)\n",
        "            # Extract the name of the dataframe from the filename\n",
        "            df_name = filename.split('.')[0]\n",
        "            # Read the CSV file and assign it to the dictionary with its name as the key\n",
        "            dfs[df_name] = pd.read_csv(file_path)"
      ],
      "metadata": {
        "id": "ojwQGbIkoxNX"
      },
      "id": "ojwQGbIkoxNX",
      "execution_count": 4,
      "outputs": []
    },
    {
      "cell_type": "code",
      "source": [
        "# Example: Display the first few rows of the transaction data\n",
        "dfs['transaction_data'].head()\n"
      ],
      "metadata": {
        "colab": {
          "base_uri": "https://localhost:8080/",
          "height": 0
        },
        "id": "Clfkdu5ypd3M",
        "outputId": "644fd7df-0744-41be-94cd-0bb8127d1f43"
      },
      "id": "Clfkdu5ypd3M",
      "execution_count": 5,
      "outputs": [
        {
          "output_type": "execute_result",
          "data": {
            "text/plain": [
              "   household_key    BASKET_ID  DAY  PRODUCT_ID  QUANTITY  SALES_VALUE  \\\n",
              "0           2375  26984851472    1     1004906         1         1.39   \n",
              "1           2375  26984851472    1     1033142         1         0.82   \n",
              "2           2375  26984851472    1     1036325         1         0.99   \n",
              "3           2375  26984851472    1     1082185         1         1.21   \n",
              "4           2375  26984851472    1     8160430         1         1.50   \n",
              "\n",
              "   STORE_ID  RETAIL_DISC  TRANS_TIME  WEEK_NO  COUPON_DISC  COUPON_MATCH_DISC  \n",
              "0       364        -0.60        1631        1          0.0                0.0  \n",
              "1       364         0.00        1631        1          0.0                0.0  \n",
              "2       364        -0.30        1631        1          0.0                0.0  \n",
              "3       364         0.00        1631        1          0.0                0.0  \n",
              "4       364        -0.39        1631        1          0.0                0.0  "
            ],
            "text/html": [
              "\n",
              "  <div id=\"df-27a08f11-b12c-482b-854d-47ff668fa7ed\" class=\"colab-df-container\">\n",
              "    <div>\n",
              "<style scoped>\n",
              "    .dataframe tbody tr th:only-of-type {\n",
              "        vertical-align: middle;\n",
              "    }\n",
              "\n",
              "    .dataframe tbody tr th {\n",
              "        vertical-align: top;\n",
              "    }\n",
              "\n",
              "    .dataframe thead th {\n",
              "        text-align: right;\n",
              "    }\n",
              "</style>\n",
              "<table border=\"1\" class=\"dataframe\">\n",
              "  <thead>\n",
              "    <tr style=\"text-align: right;\">\n",
              "      <th></th>\n",
              "      <th>household_key</th>\n",
              "      <th>BASKET_ID</th>\n",
              "      <th>DAY</th>\n",
              "      <th>PRODUCT_ID</th>\n",
              "      <th>QUANTITY</th>\n",
              "      <th>SALES_VALUE</th>\n",
              "      <th>STORE_ID</th>\n",
              "      <th>RETAIL_DISC</th>\n",
              "      <th>TRANS_TIME</th>\n",
              "      <th>WEEK_NO</th>\n",
              "      <th>COUPON_DISC</th>\n",
              "      <th>COUPON_MATCH_DISC</th>\n",
              "    </tr>\n",
              "  </thead>\n",
              "  <tbody>\n",
              "    <tr>\n",
              "      <th>0</th>\n",
              "      <td>2375</td>\n",
              "      <td>26984851472</td>\n",
              "      <td>1</td>\n",
              "      <td>1004906</td>\n",
              "      <td>1</td>\n",
              "      <td>1.39</td>\n",
              "      <td>364</td>\n",
              "      <td>-0.60</td>\n",
              "      <td>1631</td>\n",
              "      <td>1</td>\n",
              "      <td>0.0</td>\n",
              "      <td>0.0</td>\n",
              "    </tr>\n",
              "    <tr>\n",
              "      <th>1</th>\n",
              "      <td>2375</td>\n",
              "      <td>26984851472</td>\n",
              "      <td>1</td>\n",
              "      <td>1033142</td>\n",
              "      <td>1</td>\n",
              "      <td>0.82</td>\n",
              "      <td>364</td>\n",
              "      <td>0.00</td>\n",
              "      <td>1631</td>\n",
              "      <td>1</td>\n",
              "      <td>0.0</td>\n",
              "      <td>0.0</td>\n",
              "    </tr>\n",
              "    <tr>\n",
              "      <th>2</th>\n",
              "      <td>2375</td>\n",
              "      <td>26984851472</td>\n",
              "      <td>1</td>\n",
              "      <td>1036325</td>\n",
              "      <td>1</td>\n",
              "      <td>0.99</td>\n",
              "      <td>364</td>\n",
              "      <td>-0.30</td>\n",
              "      <td>1631</td>\n",
              "      <td>1</td>\n",
              "      <td>0.0</td>\n",
              "      <td>0.0</td>\n",
              "    </tr>\n",
              "    <tr>\n",
              "      <th>3</th>\n",
              "      <td>2375</td>\n",
              "      <td>26984851472</td>\n",
              "      <td>1</td>\n",
              "      <td>1082185</td>\n",
              "      <td>1</td>\n",
              "      <td>1.21</td>\n",
              "      <td>364</td>\n",
              "      <td>0.00</td>\n",
              "      <td>1631</td>\n",
              "      <td>1</td>\n",
              "      <td>0.0</td>\n",
              "      <td>0.0</td>\n",
              "    </tr>\n",
              "    <tr>\n",
              "      <th>4</th>\n",
              "      <td>2375</td>\n",
              "      <td>26984851472</td>\n",
              "      <td>1</td>\n",
              "      <td>8160430</td>\n",
              "      <td>1</td>\n",
              "      <td>1.50</td>\n",
              "      <td>364</td>\n",
              "      <td>-0.39</td>\n",
              "      <td>1631</td>\n",
              "      <td>1</td>\n",
              "      <td>0.0</td>\n",
              "      <td>0.0</td>\n",
              "    </tr>\n",
              "  </tbody>\n",
              "</table>\n",
              "</div>\n",
              "    <div class=\"colab-df-buttons\">\n",
              "\n",
              "  <div class=\"colab-df-container\">\n",
              "    <button class=\"colab-df-convert\" onclick=\"convertToInteractive('df-27a08f11-b12c-482b-854d-47ff668fa7ed')\"\n",
              "            title=\"Convert this dataframe to an interactive table.\"\n",
              "            style=\"display:none;\">\n",
              "\n",
              "  <svg xmlns=\"http://www.w3.org/2000/svg\" height=\"24px\" viewBox=\"0 -960 960 960\">\n",
              "    <path d=\"M120-120v-720h720v720H120Zm60-500h600v-160H180v160Zm220 220h160v-160H400v160Zm0 220h160v-160H400v160ZM180-400h160v-160H180v160Zm440 0h160v-160H620v160ZM180-180h160v-160H180v160Zm440 0h160v-160H620v160Z\"/>\n",
              "  </svg>\n",
              "    </button>\n",
              "\n",
              "  <style>\n",
              "    .colab-df-container {\n",
              "      display:flex;\n",
              "      gap: 12px;\n",
              "    }\n",
              "\n",
              "    .colab-df-convert {\n",
              "      background-color: #E8F0FE;\n",
              "      border: none;\n",
              "      border-radius: 50%;\n",
              "      cursor: pointer;\n",
              "      display: none;\n",
              "      fill: #1967D2;\n",
              "      height: 32px;\n",
              "      padding: 0 0 0 0;\n",
              "      width: 32px;\n",
              "    }\n",
              "\n",
              "    .colab-df-convert:hover {\n",
              "      background-color: #E2EBFA;\n",
              "      box-shadow: 0px 1px 2px rgba(60, 64, 67, 0.3), 0px 1px 3px 1px rgba(60, 64, 67, 0.15);\n",
              "      fill: #174EA6;\n",
              "    }\n",
              "\n",
              "    .colab-df-buttons div {\n",
              "      margin-bottom: 4px;\n",
              "    }\n",
              "\n",
              "    [theme=dark] .colab-df-convert {\n",
              "      background-color: #3B4455;\n",
              "      fill: #D2E3FC;\n",
              "    }\n",
              "\n",
              "    [theme=dark] .colab-df-convert:hover {\n",
              "      background-color: #434B5C;\n",
              "      box-shadow: 0px 1px 3px 1px rgba(0, 0, 0, 0.15);\n",
              "      filter: drop-shadow(0px 1px 2px rgba(0, 0, 0, 0.3));\n",
              "      fill: #FFFFFF;\n",
              "    }\n",
              "  </style>\n",
              "\n",
              "    <script>\n",
              "      const buttonEl =\n",
              "        document.querySelector('#df-27a08f11-b12c-482b-854d-47ff668fa7ed button.colab-df-convert');\n",
              "      buttonEl.style.display =\n",
              "        google.colab.kernel.accessAllowed ? 'block' : 'none';\n",
              "\n",
              "      async function convertToInteractive(key) {\n",
              "        const element = document.querySelector('#df-27a08f11-b12c-482b-854d-47ff668fa7ed');\n",
              "        const dataTable =\n",
              "          await google.colab.kernel.invokeFunction('convertToInteractive',\n",
              "                                                    [key], {});\n",
              "        if (!dataTable) return;\n",
              "\n",
              "        const docLinkHtml = 'Like what you see? Visit the ' +\n",
              "          '<a target=\"_blank\" href=https://colab.research.google.com/notebooks/data_table.ipynb>data table notebook</a>'\n",
              "          + ' to learn more about interactive tables.';\n",
              "        element.innerHTML = '';\n",
              "        dataTable['output_type'] = 'display_data';\n",
              "        await google.colab.output.renderOutput(dataTable, element);\n",
              "        const docLink = document.createElement('div');\n",
              "        docLink.innerHTML = docLinkHtml;\n",
              "        element.appendChild(docLink);\n",
              "      }\n",
              "    </script>\n",
              "  </div>\n",
              "\n",
              "\n",
              "<div id=\"df-ac9dfb6c-35c7-49e7-b5dd-8d6fbf458d0c\">\n",
              "  <button class=\"colab-df-quickchart\" onclick=\"quickchart('df-ac9dfb6c-35c7-49e7-b5dd-8d6fbf458d0c')\"\n",
              "            title=\"Suggest charts\"\n",
              "            style=\"display:none;\">\n",
              "\n",
              "<svg xmlns=\"http://www.w3.org/2000/svg\" height=\"24px\"viewBox=\"0 0 24 24\"\n",
              "     width=\"24px\">\n",
              "    <g>\n",
              "        <path d=\"M19 3H5c-1.1 0-2 .9-2 2v14c0 1.1.9 2 2 2h14c1.1 0 2-.9 2-2V5c0-1.1-.9-2-2-2zM9 17H7v-7h2v7zm4 0h-2V7h2v10zm4 0h-2v-4h2v4z\"/>\n",
              "    </g>\n",
              "</svg>\n",
              "  </button>\n",
              "\n",
              "<style>\n",
              "  .colab-df-quickchart {\n",
              "      --bg-color: #E8F0FE;\n",
              "      --fill-color: #1967D2;\n",
              "      --hover-bg-color: #E2EBFA;\n",
              "      --hover-fill-color: #174EA6;\n",
              "      --disabled-fill-color: #AAA;\n",
              "      --disabled-bg-color: #DDD;\n",
              "  }\n",
              "\n",
              "  [theme=dark] .colab-df-quickchart {\n",
              "      --bg-color: #3B4455;\n",
              "      --fill-color: #D2E3FC;\n",
              "      --hover-bg-color: #434B5C;\n",
              "      --hover-fill-color: #FFFFFF;\n",
              "      --disabled-bg-color: #3B4455;\n",
              "      --disabled-fill-color: #666;\n",
              "  }\n",
              "\n",
              "  .colab-df-quickchart {\n",
              "    background-color: var(--bg-color);\n",
              "    border: none;\n",
              "    border-radius: 50%;\n",
              "    cursor: pointer;\n",
              "    display: none;\n",
              "    fill: var(--fill-color);\n",
              "    height: 32px;\n",
              "    padding: 0;\n",
              "    width: 32px;\n",
              "  }\n",
              "\n",
              "  .colab-df-quickchart:hover {\n",
              "    background-color: var(--hover-bg-color);\n",
              "    box-shadow: 0 1px 2px rgba(60, 64, 67, 0.3), 0 1px 3px 1px rgba(60, 64, 67, 0.15);\n",
              "    fill: var(--button-hover-fill-color);\n",
              "  }\n",
              "\n",
              "  .colab-df-quickchart-complete:disabled,\n",
              "  .colab-df-quickchart-complete:disabled:hover {\n",
              "    background-color: var(--disabled-bg-color);\n",
              "    fill: var(--disabled-fill-color);\n",
              "    box-shadow: none;\n",
              "  }\n",
              "\n",
              "  .colab-df-spinner {\n",
              "    border: 2px solid var(--fill-color);\n",
              "    border-color: transparent;\n",
              "    border-bottom-color: var(--fill-color);\n",
              "    animation:\n",
              "      spin 1s steps(1) infinite;\n",
              "  }\n",
              "\n",
              "  @keyframes spin {\n",
              "    0% {\n",
              "      border-color: transparent;\n",
              "      border-bottom-color: var(--fill-color);\n",
              "      border-left-color: var(--fill-color);\n",
              "    }\n",
              "    20% {\n",
              "      border-color: transparent;\n",
              "      border-left-color: var(--fill-color);\n",
              "      border-top-color: var(--fill-color);\n",
              "    }\n",
              "    30% {\n",
              "      border-color: transparent;\n",
              "      border-left-color: var(--fill-color);\n",
              "      border-top-color: var(--fill-color);\n",
              "      border-right-color: var(--fill-color);\n",
              "    }\n",
              "    40% {\n",
              "      border-color: transparent;\n",
              "      border-right-color: var(--fill-color);\n",
              "      border-top-color: var(--fill-color);\n",
              "    }\n",
              "    60% {\n",
              "      border-color: transparent;\n",
              "      border-right-color: var(--fill-color);\n",
              "    }\n",
              "    80% {\n",
              "      border-color: transparent;\n",
              "      border-right-color: var(--fill-color);\n",
              "      border-bottom-color: var(--fill-color);\n",
              "    }\n",
              "    90% {\n",
              "      border-color: transparent;\n",
              "      border-bottom-color: var(--fill-color);\n",
              "    }\n",
              "  }\n",
              "</style>\n",
              "\n",
              "  <script>\n",
              "    async function quickchart(key) {\n",
              "      const quickchartButtonEl =\n",
              "        document.querySelector('#' + key + ' button');\n",
              "      quickchartButtonEl.disabled = true;  // To prevent multiple clicks.\n",
              "      quickchartButtonEl.classList.add('colab-df-spinner');\n",
              "      try {\n",
              "        const charts = await google.colab.kernel.invokeFunction(\n",
              "            'suggestCharts', [key], {});\n",
              "      } catch (error) {\n",
              "        console.error('Error during call to suggestCharts:', error);\n",
              "      }\n",
              "      quickchartButtonEl.classList.remove('colab-df-spinner');\n",
              "      quickchartButtonEl.classList.add('colab-df-quickchart-complete');\n",
              "    }\n",
              "    (() => {\n",
              "      let quickchartButtonEl =\n",
              "        document.querySelector('#df-ac9dfb6c-35c7-49e7-b5dd-8d6fbf458d0c button');\n",
              "      quickchartButtonEl.style.display =\n",
              "        google.colab.kernel.accessAllowed ? 'block' : 'none';\n",
              "    })();\n",
              "  </script>\n",
              "</div>\n",
              "    </div>\n",
              "  </div>\n"
            ]
          },
          "metadata": {},
          "execution_count": 5
        }
      ]
    },
    {
      "cell_type": "markdown",
      "source": [
        "# Exploratory Data Analysis\n",
        "The dataset consist of eight tables in separate .csv files. The dataset covers a two year span purchase transactions of 2500 households. Also demographics information of households, campaign and coupon redemption informations are available. In the modeling phase we will join these tables to make our final dataset.\n",
        "\n",
        "* Campaign Descriptions (campaigndesc.csv)\n",
        "  - This table gives the length of time for which a campaign runs. So, any coupons received as part of a campaign are valid within the dates contained in this table.\n",
        "\n",
        "* Campaigns (campaign_table.csv)\n",
        "  - This table lists the campaigns received by each household in the study. Each household received a different set of campaigns.\n",
        "\n",
        "* Coupons (coupon.csv)\n",
        "* Coupon Redemptions (coupon_redempt.csv)\n",
        "* Transactions (transaction_data.csv)\n",
        "* Demographics (hh_demographic.csv)"
      ],
      "metadata": {
        "id": "7sZLxiAxr2Fl"
      },
      "id": "7sZLxiAxr2Fl"
    },
    {
      "cell_type": "markdown",
      "source": [
        "## Campaign Descriptions\n",
        "Campaign description data is a look up table, containing the start and the end days of each campaign (30 campaigns in total). Also it gives which campaign belongs to what category (Type A, B and C)."
      ],
      "metadata": {
        "id": "bh7_BhZHs9KX"
      },
      "id": "bh7_BhZHs9KX"
    },
    {
      "cell_type": "code",
      "source": [
        "dfs[\"campaign_desc\"]"
      ],
      "metadata": {
        "colab": {
          "base_uri": "https://localhost:8080/",
          "height": 990
        },
        "id": "2C16Ovkrr2dX",
        "outputId": "15ef4f20-386c-4777-b535-4a6cf489894a"
      },
      "id": "2C16Ovkrr2dX",
      "execution_count": 9,
      "outputs": [
        {
          "output_type": "execute_result",
          "data": {
            "text/plain": [
              "   DESCRIPTION  CAMPAIGN  START_DAY  END_DAY  DUR  Duration\n",
              "0        TypeB        24        659      719   60        60\n",
              "1        TypeC        15        547      708  161       161\n",
              "2        TypeB        25        659      691   32        32\n",
              "3        TypeC        20        615      685   70        70\n",
              "4        TypeB        23        646      684   38        38\n",
              "5        TypeB        21        624      656   32        32\n",
              "6        TypeB        22        624      656   32        32\n",
              "7        TypeA        18        587      642   55        55\n",
              "8        TypeB        19        603      635   32        32\n",
              "9        TypeB        17        575      607   32        32\n",
              "10       TypeC        14        531      596   65        65\n",
              "11       TypeB        16        561      593   32        32\n",
              "12       TypeA        13        504      551   47        47\n",
              "13       TypeB        11        477      523   46        46\n",
              "14       TypeB        12        477      509   32        32\n",
              "15       TypeB        10        463      495   32        32\n",
              "16       TypeB         9        435      467   32        32\n",
              "17       TypeA         8        412      460   48        48\n",
              "18       TypeB         7        398      432   34        34\n",
              "19       TypeC         6        393      425   32        32\n",
              "20       TypeC         3        356      412   56        56\n",
              "21       TypeB         5        377      411   34        34\n",
              "22       TypeB         4        372      404   32        32\n",
              "23       TypeB         1        346      383   37        37\n",
              "24       TypeB         2        351      383   32        32\n",
              "25       TypeA        30        323      369   46        46\n",
              "26       TypeB        29        281      334   53        53\n",
              "27       TypeB        28        259      320   61        61\n",
              "28       TypeC        27        237      300   63        63\n",
              "29       TypeA        26        224      264   40        40"
            ],
            "text/html": [
              "\n",
              "  <div id=\"df-a1a0442b-f89a-4d18-8d8b-4bb53fe56715\" class=\"colab-df-container\">\n",
              "    <div>\n",
              "<style scoped>\n",
              "    .dataframe tbody tr th:only-of-type {\n",
              "        vertical-align: middle;\n",
              "    }\n",
              "\n",
              "    .dataframe tbody tr th {\n",
              "        vertical-align: top;\n",
              "    }\n",
              "\n",
              "    .dataframe thead th {\n",
              "        text-align: right;\n",
              "    }\n",
              "</style>\n",
              "<table border=\"1\" class=\"dataframe\">\n",
              "  <thead>\n",
              "    <tr style=\"text-align: right;\">\n",
              "      <th></th>\n",
              "      <th>DESCRIPTION</th>\n",
              "      <th>CAMPAIGN</th>\n",
              "      <th>START_DAY</th>\n",
              "      <th>END_DAY</th>\n",
              "      <th>DUR</th>\n",
              "      <th>Duration</th>\n",
              "    </tr>\n",
              "  </thead>\n",
              "  <tbody>\n",
              "    <tr>\n",
              "      <th>0</th>\n",
              "      <td>TypeB</td>\n",
              "      <td>24</td>\n",
              "      <td>659</td>\n",
              "      <td>719</td>\n",
              "      <td>60</td>\n",
              "      <td>60</td>\n",
              "    </tr>\n",
              "    <tr>\n",
              "      <th>1</th>\n",
              "      <td>TypeC</td>\n",
              "      <td>15</td>\n",
              "      <td>547</td>\n",
              "      <td>708</td>\n",
              "      <td>161</td>\n",
              "      <td>161</td>\n",
              "    </tr>\n",
              "    <tr>\n",
              "      <th>2</th>\n",
              "      <td>TypeB</td>\n",
              "      <td>25</td>\n",
              "      <td>659</td>\n",
              "      <td>691</td>\n",
              "      <td>32</td>\n",
              "      <td>32</td>\n",
              "    </tr>\n",
              "    <tr>\n",
              "      <th>3</th>\n",
              "      <td>TypeC</td>\n",
              "      <td>20</td>\n",
              "      <td>615</td>\n",
              "      <td>685</td>\n",
              "      <td>70</td>\n",
              "      <td>70</td>\n",
              "    </tr>\n",
              "    <tr>\n",
              "      <th>4</th>\n",
              "      <td>TypeB</td>\n",
              "      <td>23</td>\n",
              "      <td>646</td>\n",
              "      <td>684</td>\n",
              "      <td>38</td>\n",
              "      <td>38</td>\n",
              "    </tr>\n",
              "    <tr>\n",
              "      <th>5</th>\n",
              "      <td>TypeB</td>\n",
              "      <td>21</td>\n",
              "      <td>624</td>\n",
              "      <td>656</td>\n",
              "      <td>32</td>\n",
              "      <td>32</td>\n",
              "    </tr>\n",
              "    <tr>\n",
              "      <th>6</th>\n",
              "      <td>TypeB</td>\n",
              "      <td>22</td>\n",
              "      <td>624</td>\n",
              "      <td>656</td>\n",
              "      <td>32</td>\n",
              "      <td>32</td>\n",
              "    </tr>\n",
              "    <tr>\n",
              "      <th>7</th>\n",
              "      <td>TypeA</td>\n",
              "      <td>18</td>\n",
              "      <td>587</td>\n",
              "      <td>642</td>\n",
              "      <td>55</td>\n",
              "      <td>55</td>\n",
              "    </tr>\n",
              "    <tr>\n",
              "      <th>8</th>\n",
              "      <td>TypeB</td>\n",
              "      <td>19</td>\n",
              "      <td>603</td>\n",
              "      <td>635</td>\n",
              "      <td>32</td>\n",
              "      <td>32</td>\n",
              "    </tr>\n",
              "    <tr>\n",
              "      <th>9</th>\n",
              "      <td>TypeB</td>\n",
              "      <td>17</td>\n",
              "      <td>575</td>\n",
              "      <td>607</td>\n",
              "      <td>32</td>\n",
              "      <td>32</td>\n",
              "    </tr>\n",
              "    <tr>\n",
              "      <th>10</th>\n",
              "      <td>TypeC</td>\n",
              "      <td>14</td>\n",
              "      <td>531</td>\n",
              "      <td>596</td>\n",
              "      <td>65</td>\n",
              "      <td>65</td>\n",
              "    </tr>\n",
              "    <tr>\n",
              "      <th>11</th>\n",
              "      <td>TypeB</td>\n",
              "      <td>16</td>\n",
              "      <td>561</td>\n",
              "      <td>593</td>\n",
              "      <td>32</td>\n",
              "      <td>32</td>\n",
              "    </tr>\n",
              "    <tr>\n",
              "      <th>12</th>\n",
              "      <td>TypeA</td>\n",
              "      <td>13</td>\n",
              "      <td>504</td>\n",
              "      <td>551</td>\n",
              "      <td>47</td>\n",
              "      <td>47</td>\n",
              "    </tr>\n",
              "    <tr>\n",
              "      <th>13</th>\n",
              "      <td>TypeB</td>\n",
              "      <td>11</td>\n",
              "      <td>477</td>\n",
              "      <td>523</td>\n",
              "      <td>46</td>\n",
              "      <td>46</td>\n",
              "    </tr>\n",
              "    <tr>\n",
              "      <th>14</th>\n",
              "      <td>TypeB</td>\n",
              "      <td>12</td>\n",
              "      <td>477</td>\n",
              "      <td>509</td>\n",
              "      <td>32</td>\n",
              "      <td>32</td>\n",
              "    </tr>\n",
              "    <tr>\n",
              "      <th>15</th>\n",
              "      <td>TypeB</td>\n",
              "      <td>10</td>\n",
              "      <td>463</td>\n",
              "      <td>495</td>\n",
              "      <td>32</td>\n",
              "      <td>32</td>\n",
              "    </tr>\n",
              "    <tr>\n",
              "      <th>16</th>\n",
              "      <td>TypeB</td>\n",
              "      <td>9</td>\n",
              "      <td>435</td>\n",
              "      <td>467</td>\n",
              "      <td>32</td>\n",
              "      <td>32</td>\n",
              "    </tr>\n",
              "    <tr>\n",
              "      <th>17</th>\n",
              "      <td>TypeA</td>\n",
              "      <td>8</td>\n",
              "      <td>412</td>\n",
              "      <td>460</td>\n",
              "      <td>48</td>\n",
              "      <td>48</td>\n",
              "    </tr>\n",
              "    <tr>\n",
              "      <th>18</th>\n",
              "      <td>TypeB</td>\n",
              "      <td>7</td>\n",
              "      <td>398</td>\n",
              "      <td>432</td>\n",
              "      <td>34</td>\n",
              "      <td>34</td>\n",
              "    </tr>\n",
              "    <tr>\n",
              "      <th>19</th>\n",
              "      <td>TypeC</td>\n",
              "      <td>6</td>\n",
              "      <td>393</td>\n",
              "      <td>425</td>\n",
              "      <td>32</td>\n",
              "      <td>32</td>\n",
              "    </tr>\n",
              "    <tr>\n",
              "      <th>20</th>\n",
              "      <td>TypeC</td>\n",
              "      <td>3</td>\n",
              "      <td>356</td>\n",
              "      <td>412</td>\n",
              "      <td>56</td>\n",
              "      <td>56</td>\n",
              "    </tr>\n",
              "    <tr>\n",
              "      <th>21</th>\n",
              "      <td>TypeB</td>\n",
              "      <td>5</td>\n",
              "      <td>377</td>\n",
              "      <td>411</td>\n",
              "      <td>34</td>\n",
              "      <td>34</td>\n",
              "    </tr>\n",
              "    <tr>\n",
              "      <th>22</th>\n",
              "      <td>TypeB</td>\n",
              "      <td>4</td>\n",
              "      <td>372</td>\n",
              "      <td>404</td>\n",
              "      <td>32</td>\n",
              "      <td>32</td>\n",
              "    </tr>\n",
              "    <tr>\n",
              "      <th>23</th>\n",
              "      <td>TypeB</td>\n",
              "      <td>1</td>\n",
              "      <td>346</td>\n",
              "      <td>383</td>\n",
              "      <td>37</td>\n",
              "      <td>37</td>\n",
              "    </tr>\n",
              "    <tr>\n",
              "      <th>24</th>\n",
              "      <td>TypeB</td>\n",
              "      <td>2</td>\n",
              "      <td>351</td>\n",
              "      <td>383</td>\n",
              "      <td>32</td>\n",
              "      <td>32</td>\n",
              "    </tr>\n",
              "    <tr>\n",
              "      <th>25</th>\n",
              "      <td>TypeA</td>\n",
              "      <td>30</td>\n",
              "      <td>323</td>\n",
              "      <td>369</td>\n",
              "      <td>46</td>\n",
              "      <td>46</td>\n",
              "    </tr>\n",
              "    <tr>\n",
              "      <th>26</th>\n",
              "      <td>TypeB</td>\n",
              "      <td>29</td>\n",
              "      <td>281</td>\n",
              "      <td>334</td>\n",
              "      <td>53</td>\n",
              "      <td>53</td>\n",
              "    </tr>\n",
              "    <tr>\n",
              "      <th>27</th>\n",
              "      <td>TypeB</td>\n",
              "      <td>28</td>\n",
              "      <td>259</td>\n",
              "      <td>320</td>\n",
              "      <td>61</td>\n",
              "      <td>61</td>\n",
              "    </tr>\n",
              "    <tr>\n",
              "      <th>28</th>\n",
              "      <td>TypeC</td>\n",
              "      <td>27</td>\n",
              "      <td>237</td>\n",
              "      <td>300</td>\n",
              "      <td>63</td>\n",
              "      <td>63</td>\n",
              "    </tr>\n",
              "    <tr>\n",
              "      <th>29</th>\n",
              "      <td>TypeA</td>\n",
              "      <td>26</td>\n",
              "      <td>224</td>\n",
              "      <td>264</td>\n",
              "      <td>40</td>\n",
              "      <td>40</td>\n",
              "    </tr>\n",
              "  </tbody>\n",
              "</table>\n",
              "</div>\n",
              "    <div class=\"colab-df-buttons\">\n",
              "\n",
              "  <div class=\"colab-df-container\">\n",
              "    <button class=\"colab-df-convert\" onclick=\"convertToInteractive('df-a1a0442b-f89a-4d18-8d8b-4bb53fe56715')\"\n",
              "            title=\"Convert this dataframe to an interactive table.\"\n",
              "            style=\"display:none;\">\n",
              "\n",
              "  <svg xmlns=\"http://www.w3.org/2000/svg\" height=\"24px\" viewBox=\"0 -960 960 960\">\n",
              "    <path d=\"M120-120v-720h720v720H120Zm60-500h600v-160H180v160Zm220 220h160v-160H400v160Zm0 220h160v-160H400v160ZM180-400h160v-160H180v160Zm440 0h160v-160H620v160ZM180-180h160v-160H180v160Zm440 0h160v-160H620v160Z\"/>\n",
              "  </svg>\n",
              "    </button>\n",
              "\n",
              "  <style>\n",
              "    .colab-df-container {\n",
              "      display:flex;\n",
              "      gap: 12px;\n",
              "    }\n",
              "\n",
              "    .colab-df-convert {\n",
              "      background-color: #E8F0FE;\n",
              "      border: none;\n",
              "      border-radius: 50%;\n",
              "      cursor: pointer;\n",
              "      display: none;\n",
              "      fill: #1967D2;\n",
              "      height: 32px;\n",
              "      padding: 0 0 0 0;\n",
              "      width: 32px;\n",
              "    }\n",
              "\n",
              "    .colab-df-convert:hover {\n",
              "      background-color: #E2EBFA;\n",
              "      box-shadow: 0px 1px 2px rgba(60, 64, 67, 0.3), 0px 1px 3px 1px rgba(60, 64, 67, 0.15);\n",
              "      fill: #174EA6;\n",
              "    }\n",
              "\n",
              "    .colab-df-buttons div {\n",
              "      margin-bottom: 4px;\n",
              "    }\n",
              "\n",
              "    [theme=dark] .colab-df-convert {\n",
              "      background-color: #3B4455;\n",
              "      fill: #D2E3FC;\n",
              "    }\n",
              "\n",
              "    [theme=dark] .colab-df-convert:hover {\n",
              "      background-color: #434B5C;\n",
              "      box-shadow: 0px 1px 3px 1px rgba(0, 0, 0, 0.15);\n",
              "      filter: drop-shadow(0px 1px 2px rgba(0, 0, 0, 0.3));\n",
              "      fill: #FFFFFF;\n",
              "    }\n",
              "  </style>\n",
              "\n",
              "    <script>\n",
              "      const buttonEl =\n",
              "        document.querySelector('#df-a1a0442b-f89a-4d18-8d8b-4bb53fe56715 button.colab-df-convert');\n",
              "      buttonEl.style.display =\n",
              "        google.colab.kernel.accessAllowed ? 'block' : 'none';\n",
              "\n",
              "      async function convertToInteractive(key) {\n",
              "        const element = document.querySelector('#df-a1a0442b-f89a-4d18-8d8b-4bb53fe56715');\n",
              "        const dataTable =\n",
              "          await google.colab.kernel.invokeFunction('convertToInteractive',\n",
              "                                                    [key], {});\n",
              "        if (!dataTable) return;\n",
              "\n",
              "        const docLinkHtml = 'Like what you see? Visit the ' +\n",
              "          '<a target=\"_blank\" href=https://colab.research.google.com/notebooks/data_table.ipynb>data table notebook</a>'\n",
              "          + ' to learn more about interactive tables.';\n",
              "        element.innerHTML = '';\n",
              "        dataTable['output_type'] = 'display_data';\n",
              "        await google.colab.output.renderOutput(dataTable, element);\n",
              "        const docLink = document.createElement('div');\n",
              "        docLink.innerHTML = docLinkHtml;\n",
              "        element.appendChild(docLink);\n",
              "      }\n",
              "    </script>\n",
              "  </div>\n",
              "\n",
              "\n",
              "<div id=\"df-f1138902-c986-40f7-8751-b09380793166\">\n",
              "  <button class=\"colab-df-quickchart\" onclick=\"quickchart('df-f1138902-c986-40f7-8751-b09380793166')\"\n",
              "            title=\"Suggest charts\"\n",
              "            style=\"display:none;\">\n",
              "\n",
              "<svg xmlns=\"http://www.w3.org/2000/svg\" height=\"24px\"viewBox=\"0 0 24 24\"\n",
              "     width=\"24px\">\n",
              "    <g>\n",
              "        <path d=\"M19 3H5c-1.1 0-2 .9-2 2v14c0 1.1.9 2 2 2h14c1.1 0 2-.9 2-2V5c0-1.1-.9-2-2-2zM9 17H7v-7h2v7zm4 0h-2V7h2v10zm4 0h-2v-4h2v4z\"/>\n",
              "    </g>\n",
              "</svg>\n",
              "  </button>\n",
              "\n",
              "<style>\n",
              "  .colab-df-quickchart {\n",
              "      --bg-color: #E8F0FE;\n",
              "      --fill-color: #1967D2;\n",
              "      --hover-bg-color: #E2EBFA;\n",
              "      --hover-fill-color: #174EA6;\n",
              "      --disabled-fill-color: #AAA;\n",
              "      --disabled-bg-color: #DDD;\n",
              "  }\n",
              "\n",
              "  [theme=dark] .colab-df-quickchart {\n",
              "      --bg-color: #3B4455;\n",
              "      --fill-color: #D2E3FC;\n",
              "      --hover-bg-color: #434B5C;\n",
              "      --hover-fill-color: #FFFFFF;\n",
              "      --disabled-bg-color: #3B4455;\n",
              "      --disabled-fill-color: #666;\n",
              "  }\n",
              "\n",
              "  .colab-df-quickchart {\n",
              "    background-color: var(--bg-color);\n",
              "    border: none;\n",
              "    border-radius: 50%;\n",
              "    cursor: pointer;\n",
              "    display: none;\n",
              "    fill: var(--fill-color);\n",
              "    height: 32px;\n",
              "    padding: 0;\n",
              "    width: 32px;\n",
              "  }\n",
              "\n",
              "  .colab-df-quickchart:hover {\n",
              "    background-color: var(--hover-bg-color);\n",
              "    box-shadow: 0 1px 2px rgba(60, 64, 67, 0.3), 0 1px 3px 1px rgba(60, 64, 67, 0.15);\n",
              "    fill: var(--button-hover-fill-color);\n",
              "  }\n",
              "\n",
              "  .colab-df-quickchart-complete:disabled,\n",
              "  .colab-df-quickchart-complete:disabled:hover {\n",
              "    background-color: var(--disabled-bg-color);\n",
              "    fill: var(--disabled-fill-color);\n",
              "    box-shadow: none;\n",
              "  }\n",
              "\n",
              "  .colab-df-spinner {\n",
              "    border: 2px solid var(--fill-color);\n",
              "    border-color: transparent;\n",
              "    border-bottom-color: var(--fill-color);\n",
              "    animation:\n",
              "      spin 1s steps(1) infinite;\n",
              "  }\n",
              "\n",
              "  @keyframes spin {\n",
              "    0% {\n",
              "      border-color: transparent;\n",
              "      border-bottom-color: var(--fill-color);\n",
              "      border-left-color: var(--fill-color);\n",
              "    }\n",
              "    20% {\n",
              "      border-color: transparent;\n",
              "      border-left-color: var(--fill-color);\n",
              "      border-top-color: var(--fill-color);\n",
              "    }\n",
              "    30% {\n",
              "      border-color: transparent;\n",
              "      border-left-color: var(--fill-color);\n",
              "      border-top-color: var(--fill-color);\n",
              "      border-right-color: var(--fill-color);\n",
              "    }\n",
              "    40% {\n",
              "      border-color: transparent;\n",
              "      border-right-color: var(--fill-color);\n",
              "      border-top-color: var(--fill-color);\n",
              "    }\n",
              "    60% {\n",
              "      border-color: transparent;\n",
              "      border-right-color: var(--fill-color);\n",
              "    }\n",
              "    80% {\n",
              "      border-color: transparent;\n",
              "      border-right-color: var(--fill-color);\n",
              "      border-bottom-color: var(--fill-color);\n",
              "    }\n",
              "    90% {\n",
              "      border-color: transparent;\n",
              "      border-bottom-color: var(--fill-color);\n",
              "    }\n",
              "  }\n",
              "</style>\n",
              "\n",
              "  <script>\n",
              "    async function quickchart(key) {\n",
              "      const quickchartButtonEl =\n",
              "        document.querySelector('#' + key + ' button');\n",
              "      quickchartButtonEl.disabled = true;  // To prevent multiple clicks.\n",
              "      quickchartButtonEl.classList.add('colab-df-spinner');\n",
              "      try {\n",
              "        const charts = await google.colab.kernel.invokeFunction(\n",
              "            'suggestCharts', [key], {});\n",
              "      } catch (error) {\n",
              "        console.error('Error during call to suggestCharts:', error);\n",
              "      }\n",
              "      quickchartButtonEl.classList.remove('colab-df-spinner');\n",
              "      quickchartButtonEl.classList.add('colab-df-quickchart-complete');\n",
              "    }\n",
              "    (() => {\n",
              "      let quickchartButtonEl =\n",
              "        document.querySelector('#df-f1138902-c986-40f7-8751-b09380793166 button');\n",
              "      quickchartButtonEl.style.display =\n",
              "        google.colab.kernel.accessAllowed ? 'block' : 'none';\n",
              "    })();\n",
              "  </script>\n",
              "</div>\n",
              "    </div>\n",
              "  </div>\n"
            ]
          },
          "metadata": {},
          "execution_count": 9
        }
      ]
    },
    {
      "cell_type": "markdown",
      "source": [
        "### Each Campaign Duration\n",
        "Let's calculate and visualise how long each campaign lasted within two years period:"
      ],
      "metadata": {
        "id": "GXKAhVJttajv"
      },
      "id": "GXKAhVJttajv"
    },
    {
      "cell_type": "code",
      "source": [
        "dfs[\"campaign_desc\"][\"DUR\"] = dfs[\"campaign_desc\"].END_DAY-dfs[\"campaign_desc\"].START_DAY\n",
        "fig = plt.figure(figsize=(14,6))\n",
        "sns.barplot(x=\"CAMPAIGN\",y=\"DUR\",data=dfs[\"campaign_desc\"],orient=\"v\",\n",
        "            order=dfs[\"campaign_desc\"].sort_values(by=\"CAMPAIGN\").CAMPAIGN.values,\n",
        "            palette='husl')\n",
        "plt.title('Duration of each campaign', fontsize=17)\n",
        "plt.xlabel('Campaign Number', fontsize=14)\n",
        "plt.ylabel('Duration', fontsize=14)\n",
        "plt.show()"
      ],
      "metadata": {
        "colab": {
          "base_uri": "https://localhost:8080/",
          "height": 549
        },
        "id": "oL_v3HZttZrG",
        "outputId": "cb95c79a-6211-4ba5-8e60-5dffda187e8f"
      },
      "id": "oL_v3HZttZrG",
      "execution_count": 13,
      "outputs": [
        {
          "output_type": "display_data",
          "data": {
            "text/plain": [
              "<Figure size 1400x600 with 1 Axes>"
            ],
            "image/png": "[encoded data removed]"
          },
          "metadata": {}
        }
      ]
    },
    {
      "cell_type": "markdown",
      "source": [
        "Campaign No:15 lasts the longest with a staggering 160 days figure, where other campaigns are fairly close to each other ranging from 30 to 70 days\n",
        "Average campaign duration is 37 days (median)"
      ],
      "metadata": {
        "id": "j5bymWOYtsaA"
      },
      "id": "j5bymWOYtsaA"
    },
    {
      "cell_type": "markdown",
      "source": [
        "## Campaign-household_key table\n",
        "Campaign dataset contains identifying information for the marketing campaigns each household participated in. Each household received a different set of campaigns"
      ],
      "metadata": {
        "id": "cpyoKFzst_7J"
      },
      "id": "cpyoKFzst_7J"
    },
    {
      "cell_type": "code",
      "source": [
        "dfs[\"campaign_table\"].drop('DESCRIPTION', axis=1)"
      ],
      "metadata": {
        "colab": {
          "base_uri": "https://localhost:8080/",
          "height": 423
        },
        "id": "DG6j3Zktt_jF",
        "outputId": "1b89761d-cf50-4b5d-cdee-20862c4c477c"
      },
      "id": "DG6j3Zktt_jF",
      "execution_count": 30,
      "outputs": [
        {
          "output_type": "execute_result",
          "data": {
            "text/plain": [
              "      household_key  CAMPAIGN\n",
              "0                17        26\n",
              "1                27        26\n",
              "2               212        26\n",
              "3               208        26\n",
              "4               192        26\n",
              "...             ...       ...\n",
              "7203           1803        15\n",
              "7204           1082        15\n",
              "7205            942        15\n",
              "7206            855        15\n",
              "7207            334        15\n",
              "\n",
              "[7208 rows x 2 columns]"
            ],
            "text/html": [
              "\n",
              "  <div id=\"df-9b24bb82-945d-4c92-b91c-e20c7b91b96b\" class=\"colab-df-container\">\n",
              "    <div>\n",
              "<style scoped>\n",
              "    .dataframe tbody tr th:only-of-type {\n",
              "        vertical-align: middle;\n",
              "    }\n",
              "\n",
              "    .dataframe tbody tr th {\n",
              "        vertical-align: top;\n",
              "    }\n",
              "\n",
              "    .dataframe thead th {\n",
              "        text-align: right;\n",
              "    }\n",
              "</style>\n",
              "<table border=\"1\" class=\"dataframe\">\n",
              "  <thead>\n",
              "    <tr style=\"text-align: right;\">\n",
              "      <th></th>\n",
              "      <th>household_key</th>\n",
              "      <th>CAMPAIGN</th>\n",
              "    </tr>\n",
              "  </thead>\n",
              "  <tbody>\n",
              "    <tr>\n",
              "      <th>0</th>\n",
              "      <td>17</td>\n",
              "      <td>26</td>\n",
              "    </tr>\n",
              "    <tr>\n",
              "      <th>1</th>\n",
              "      <td>27</td>\n",
              "      <td>26</td>\n",
              "    </tr>\n",
              "    <tr>\n",
              "      <th>2</th>\n",
              "      <td>212</td>\n",
              "      <td>26</td>\n",
              "    </tr>\n",
              "    <tr>\n",
              "      <th>3</th>\n",
              "      <td>208</td>\n",
              "      <td>26</td>\n",
              "    </tr>\n",
              "    <tr>\n",
              "      <th>4</th>\n",
              "      <td>192</td>\n",
              "      <td>26</td>\n",
              "    </tr>\n",
              "    <tr>\n",
              "      <th>...</th>\n",
              "      <td>...</td>\n",
              "      <td>...</td>\n",
              "    </tr>\n",
              "    <tr>\n",
              "      <th>7203</th>\n",
              "      <td>1803</td>\n",
              "      <td>15</td>\n",
              "    </tr>\n",
              "    <tr>\n",
              "      <th>7204</th>\n",
              "      <td>1082</td>\n",
              "      <td>15</td>\n",
              "    </tr>\n",
              "    <tr>\n",
              "      <th>7205</th>\n",
              "      <td>942</td>\n",
              "      <td>15</td>\n",
              "    </tr>\n",
              "    <tr>\n",
              "      <th>7206</th>\n",
              "      <td>855</td>\n",
              "      <td>15</td>\n",
              "    </tr>\n",
              "    <tr>\n",
              "      <th>7207</th>\n",
              "      <td>334</td>\n",
              "      <td>15</td>\n",
              "    </tr>\n",
              "  </tbody>\n",
              "</table>\n",
              "<p>7208 rows × 2 columns</p>\n",
              "</div>\n",
              "    <div class=\"colab-df-buttons\">\n",
              "\n",
              "  <div class=\"colab-df-container\">\n",
              "    <button class=\"colab-df-convert\" onclick=\"convertToInteractive('df-9b24bb82-945d-4c92-b91c-e20c7b91b96b')\"\n",
              "            title=\"Convert this dataframe to an interactive table.\"\n",
              "            style=\"display:none;\">\n",
              "\n",
              "  <svg xmlns=\"http://www.w3.org/2000/svg\" height=\"24px\" viewBox=\"0 -960 960 960\">\n",
              "    <path d=\"M120-120v-720h720v720H120Zm60-500h600v-160H180v160Zm220 220h160v-160H400v160Zm0 220h160v-160H400v160ZM180-400h160v-160H180v160Zm440 0h160v-160H620v160ZM180-180h160v-160H180v160Zm440 0h160v-160H620v160Z\"/>\n",
              "  </svg>\n",
              "    </button>\n",
              "\n",
              "  <style>\n",
              "    .colab-df-container {\n",
              "      display:flex;\n",
              "      gap: 12px;\n",
              "    }\n",
              "\n",
              "    .colab-df-convert {\n",
              "      background-color: #E8F0FE;\n",
              "      border: none;\n",
              "      border-radius: 50%;\n",
              "      cursor: pointer;\n",
              "      display: none;\n",
              "      fill: #1967D2;\n",
              "      height: 32px;\n",
              "      padding: 0 0 0 0;\n",
              "      width: 32px;\n",
              "    }\n",
              "\n",
              "    .colab-df-convert:hover {\n",
              "      background-color: #E2EBFA;\n",
              "      box-shadow: 0px 1px 2px rgba(60, 64, 67, 0.3), 0px 1px 3px 1px rgba(60, 64, 67, 0.15);\n",
              "      fill: #174EA6;\n",
              "    }\n",
              "\n",
              "    .colab-df-buttons div {\n",
              "      margin-bottom: 4px;\n",
              "    }\n",
              "\n",
              "    [theme=dark] .colab-df-convert {\n",
              "      background-color: #3B4455;\n",
              "      fill: #D2E3FC;\n",
              "    }\n",
              "\n",
              "    [theme=dark] .colab-df-convert:hover {\n",
              "      background-color: #434B5C;\n",
              "      box-shadow: 0px 1px 3px 1px rgba(0, 0, 0, 0.15);\n",
              "      filter: drop-shadow(0px 1px 2px rgba(0, 0, 0, 0.3));\n",
              "      fill: #FFFFFF;\n",
              "    }\n",
              "  </style>\n",
              "\n",
              "    <script>\n",
              "      const buttonEl =\n",
              "        document.querySelector('#df-9b24bb82-945d-4c92-b91c-e20c7b91b96b button.colab-df-convert');\n",
              "      buttonEl.style.display =\n",
              "        google.colab.kernel.accessAllowed ? 'block' : 'none';\n",
              "\n",
              "      async function convertToInteractive(key) {\n",
              "        const element = document.querySelector('#df-9b24bb82-945d-4c92-b91c-e20c7b91b96b');\n",
              "        const dataTable =\n",
              "          await google.colab.kernel.invokeFunction('convertToInteractive',\n",
              "                                                    [key], {});\n",
              "        if (!dataTable) return;\n",
              "\n",
              "        const docLinkHtml = 'Like what you see? Visit the ' +\n",
              "          '<a target=\"_blank\" href=https://colab.research.google.com/notebooks/data_table.ipynb>data table notebook</a>'\n",
              "          + ' to learn more about interactive tables.';\n",
              "        element.innerHTML = '';\n",
              "        dataTable['output_type'] = 'display_data';\n",
              "        await google.colab.output.renderOutput(dataTable, element);\n",
              "        const docLink = document.createElement('div');\n",
              "        docLink.innerHTML = docLinkHtml;\n",
              "        element.appendChild(docLink);\n",
              "      }\n",
              "    </script>\n",
              "  </div>\n",
              "\n",
              "\n",
              "<div id=\"df-e7066c51-8e8a-4518-a243-6213a664c3a9\">\n",
              "  <button class=\"colab-df-quickchart\" onclick=\"quickchart('df-e7066c51-8e8a-4518-a243-6213a664c3a9')\"\n",
              "            title=\"Suggest charts\"\n",
              "            style=\"display:none;\">\n",
              "\n",
              "<svg xmlns=\"http://www.w3.org/2000/svg\" height=\"24px\"viewBox=\"0 0 24 24\"\n",
              "     width=\"24px\">\n",
              "    <g>\n",
              "        <path d=\"M19 3H5c-1.1 0-2 .9-2 2v14c0 1.1.9 2 2 2h14c1.1 0 2-.9 2-2V5c0-1.1-.9-2-2-2zM9 17H7v-7h2v7zm4 0h-2V7h2v10zm4 0h-2v-4h2v4z\"/>\n",
              "    </g>\n",
              "</svg>\n",
              "  </button>\n",
              "\n",
              "<style>\n",
              "  .colab-df-quickchart {\n",
              "      --bg-color: #E8F0FE;\n",
              "      --fill-color: #1967D2;\n",
              "      --hover-bg-color: #E2EBFA;\n",
              "      --hover-fill-color: #174EA6;\n",
              "      --disabled-fill-color: #AAA;\n",
              "      --disabled-bg-color: #DDD;\n",
              "  }\n",
              "\n",
              "  [theme=dark] .colab-df-quickchart {\n",
              "      --bg-color: #3B4455;\n",
              "      --fill-color: #D2E3FC;\n",
              "      --hover-bg-color: #434B5C;\n",
              "      --hover-fill-color: #FFFFFF;\n",
              "      --disabled-bg-color: #3B4455;\n",
              "      --disabled-fill-color: #666;\n",
              "  }\n",
              "\n",
              "  .colab-df-quickchart {\n",
              "    background-color: var(--bg-color);\n",
              "    border: none;\n",
              "    border-radius: 50%;\n",
              "    cursor: pointer;\n",
              "    display: none;\n",
              "    fill: var(--fill-color);\n",
              "    height: 32px;\n",
              "    padding: 0;\n",
              "    width: 32px;\n",
              "  }\n",
              "\n",
              "  .colab-df-quickchart:hover {\n",
              "    background-color: var(--hover-bg-color);\n",
              "    box-shadow: 0 1px 2px rgba(60, 64, 67, 0.3), 0 1px 3px 1px rgba(60, 64, 67, 0.15);\n",
              "    fill: var(--button-hover-fill-color);\n",
              "  }\n",
              "\n",
              "  .colab-df-quickchart-complete:disabled,\n",
              "  .colab-df-quickchart-complete:disabled:hover {\n",
              "    background-color: var(--disabled-bg-color);\n",
              "    fill: var(--disabled-fill-color);\n",
              "    box-shadow: none;\n",
              "  }\n",
              "\n",
              "  .colab-df-spinner {\n",
              "    border: 2px solid var(--fill-color);\n",
              "    border-color: transparent;\n",
              "    border-bottom-color: var(--fill-color);\n",
              "    animation:\n",
              "      spin 1s steps(1) infinite;\n",
              "  }\n",
              "\n",
              "  @keyframes spin {\n",
              "    0% {\n",
              "      border-color: transparent;\n",
              "      border-bottom-color: var(--fill-color);\n",
              "      border-left-color: var(--fill-color);\n",
              "    }\n",
              "    20% {\n",
              "      border-color: transparent;\n",
              "      border-left-color: var(--fill-color);\n",
              "      border-top-color: var(--fill-color);\n",
              "    }\n",
              "    30% {\n",
              "      border-color: transparent;\n",
              "      border-left-color: var(--fill-color);\n",
              "      border-top-color: var(--fill-color);\n",
              "      border-right-color: var(--fill-color);\n",
              "    }\n",
              "    40% {\n",
              "      border-color: transparent;\n",
              "      border-right-color: var(--fill-color);\n",
              "      border-top-color: var(--fill-color);\n",
              "    }\n",
              "    60% {\n",
              "      border-color: transparent;\n",
              "      border-right-color: var(--fill-color);\n",
              "    }\n",
              "    80% {\n",
              "      border-color: transparent;\n",
              "      border-right-color: var(--fill-color);\n",
              "      border-bottom-color: var(--fill-color);\n",
              "    }\n",
              "    90% {\n",
              "      border-color: transparent;\n",
              "      border-bottom-color: var(--fill-color);\n",
              "    }\n",
              "  }\n",
              "</style>\n",
              "\n",
              "  <script>\n",
              "    async function quickchart(key) {\n",
              "      const quickchartButtonEl =\n",
              "        document.querySelector('#' + key + ' button');\n",
              "      quickchartButtonEl.disabled = true;  // To prevent multiple clicks.\n",
              "      quickchartButtonEl.classList.add('colab-df-spinner');\n",
              "      try {\n",
              "        const charts = await google.colab.kernel.invokeFunction(\n",
              "            'suggestCharts', [key], {});\n",
              "      } catch (error) {\n",
              "        console.error('Error during call to suggestCharts:', error);\n",
              "      }\n",
              "      quickchartButtonEl.classList.remove('colab-df-spinner');\n",
              "      quickchartButtonEl.classList.add('colab-df-quickchart-complete');\n",
              "    }\n",
              "    (() => {\n",
              "      let quickchartButtonEl =\n",
              "        document.querySelector('#df-e7066c51-8e8a-4518-a243-6213a664c3a9 button');\n",
              "      quickchartButtonEl.style.display =\n",
              "        google.colab.kernel.accessAllowed ? 'block' : 'none';\n",
              "    })();\n",
              "  </script>\n",
              "</div>\n",
              "    </div>\n",
              "  </div>\n"
            ]
          },
          "metadata": {},
          "execution_count": 30
        }
      ]
    },
    {
      "cell_type": "code",
      "source": [
        "total_households = 2500\n",
        "len(dfs[\"campaign_table\"].household_key.unique())"
      ],
      "metadata": {
        "colab": {
          "base_uri": "https://localhost:8080/"
        },
        "id": "KLiMa56-uWJ0",
        "outputId": "dc7fc5f5-3aba-4dfc-8942-f4332bc87dac"
      },
      "id": "KLiMa56-uWJ0",
      "execution_count": 17,
      "outputs": [
        {
          "output_type": "execute_result",
          "data": {
            "text/plain": [
              "1584"
            ]
          },
          "metadata": {},
          "execution_count": 17
        }
      ]
    },
    {
      "cell_type": "markdown",
      "source": [
        "Out of 2500 households, 1584 of them received a campaign once, the rest never received a campaign."
      ],
      "metadata": {
        "id": "byYG1IdhuXew"
      },
      "id": "byYG1IdhuXew"
    },
    {
      "cell_type": "code",
      "source": [
        "no_of_received_campaigns_per_house = dfs[\"campaign_table\"].household_key.value_counts()\n",
        "no_of_received_campaigns = no_of_received_campaigns_per_house.value_counts()\n",
        "no_of_received_campaigns[0] = total_households-len(no_of_received_campaigns_per_house)\n",
        "no_of_received_campaigns = pd.DataFrame(list(zip(no_of_received_campaigns.index,no_of_received_campaigns))\n",
        "                                        ,columns=[\"Number of Campaigns Received\",\n",
        "                                                  \"Number of Households Reached To\"]).sort_values(\n",
        "                                                                                            by=\"Number of Campaigns Received\",ascending=True)\n",
        "plt.figure(figsize=(12,6))\n",
        "sns.barplot(y=\"Number of Campaigns Received\",x=\"Number of Households Reached To\",\n",
        "            data=no_of_received_campaigns,orient=\"h\",\n",
        "            order=no_of_received_campaigns[\"Number of Campaigns Received\"],\n",
        "            palette='husl')\n",
        "plt.title('Number of Campaigns Received By Households Number', fontsize=17)\n",
        "plt.xlabel('Number of Households Reached To', fontsize=14)\n",
        "plt.ylabel('Number of Campaigns Received', fontsize=14)\n",
        "plt.show()"
      ],
      "metadata": {
        "colab": {
          "base_uri": "https://localhost:8080/",
          "height": 574
        },
        "id": "rsePfWh7ukew",
        "outputId": "95d8685d-93df-4f7a-8df3-1691010b6690"
      },
      "id": "rsePfWh7ukew",
      "execution_count": 18,
      "outputs": [
        {
          "output_type": "display_data",
          "data": {
            "text/plain": [
              "<Figure size 1200x600 with 1 Axes>"
            ],
            "image/png": "[encoded data removed]"
          },
          "metadata": {}
        }
      ]
    },
    {
      "cell_type": "markdown",
      "source": [
        "On the other side, a very small portion of the households received double-digit number of campaigns. We will investigate how this will effect churn rates in the following sections. The barchart up groups the households and shows counts of the group populations."
      ],
      "metadata": {
        "id": "BxkKQSuluobA"
      },
      "id": "BxkKQSuluobA"
    },
    {
      "cell_type": "markdown",
      "source": [
        "### Most Frequent Campaigns\n",
        "Graph below gives the most frequent campaigns. Campaign number 18, 13 and 8 being the most frequent ones reaching 1000 and more households each (no campaigns applied to same customer more than once therefore Frequency axis gives unique number of households)."
      ],
      "metadata": {
        "id": "58d3ztfl5FIz"
      },
      "id": "58d3ztfl5FIz"
    },
    {
      "cell_type": "code",
      "source": [
        "freq_campaigns = pd.DataFrame(list(zip(dfs[\"campaign_table\"].CAMPAIGN.value_counts().index,\n",
        "                                       dfs[\"campaign_table\"].CAMPAIGN.value_counts())),columns=[\"Campaign\",\"Frequency\"])\n",
        "fig = plt.figure(figsize=(12,8))\n",
        "sns.barplot(y=\"Campaign\",x=\"Frequency\",data = freq_campaigns,orient=\"h\",\n",
        "            palette='husl')\n",
        "plt.title('Frequency of Each Campaign', fontsize=17)\n",
        "plt.xlabel('Frequency', fontsize=14)\n",
        "plt.ylabel('Campaign No.', fontsize=14)\n",
        "plt.show()"
      ],
      "metadata": {
        "id": "yfnN6nGO4_RK",
        "outputId": "bc7798b0-d6dc-44e8-f8d1-986a0a4b1d5b",
        "colab": {
          "base_uri": "https://localhost:8080/",
          "height": 728
        }
      },
      "id": "yfnN6nGO4_RK",
      "execution_count": 20,
      "outputs": [
        {
          "output_type": "display_data",
          "data": {
            "text/plain": [
              "<Figure size 1200x800 with 1 Axes>"
            ],
            "image/png": "[encoded data removed]"
          },
          "metadata": {}
        }
      ]
    },
    {
      "cell_type": "markdown",
      "source": [
        "## Coupons\n",
        "Is a lookup table which lists all the coupons sent to customers as part of a campaign, as well as the products for which each coupon is redeemable"
      ],
      "metadata": {
        "id": "sLaYZYEmBKHF"
      },
      "id": "sLaYZYEmBKHF"
    },
    {
      "cell_type": "code",
      "source": [
        "dfs[\"coupon\"]"
      ],
      "metadata": {
        "trusted": true,
        "id": "3peBshdTBKHF",
        "outputId": "e592c373-4c4e-4ed8-cf00-2fb9dc0c5774",
        "colab": {
          "base_uri": "https://localhost:8080/",
          "height": 423
        }
      },
      "execution_count": 22,
      "outputs": [
        {
          "output_type": "execute_result",
          "data": {
            "text/plain": [
              "         COUPON_UPC  PRODUCT_ID  CAMPAIGN\n",
              "0       10000089061       27160         4\n",
              "1       10000089064       27754         9\n",
              "2       10000089073       28897        12\n",
              "3       51800009050       28919        28\n",
              "4       52100000076       28929        25\n",
              "...             ...         ...       ...\n",
              "124543  10000085478    13038802        18\n",
              "124544  10000085479    13039368        18\n",
              "124545  10000085478    13039553        18\n",
              "124546  10000085479    13776332        18\n",
              "124547  10000085477    13213390        18\n",
              "\n",
              "[124548 rows x 3 columns]"
            ],
            "text/html": [
              "\n",
              "  <div id=\"df-2d287316-e69c-4cdf-a1eb-98d03d952f4d\" class=\"colab-df-container\">\n",
              "    <div>\n",
              "<style scoped>\n",
              "    .dataframe tbody tr th:only-of-type {\n",
              "        vertical-align: middle;\n",
              "    }\n",
              "\n",
              "    .dataframe tbody tr th {\n",
              "        vertical-align: top;\n",
              "    }\n",
              "\n",
              "    .dataframe thead th {\n",
              "        text-align: right;\n",
              "    }\n",
              "</style>\n",
              "<table border=\"1\" class=\"dataframe\">\n",
              "  <thead>\n",
              "    <tr style=\"text-align: right;\">\n",
              "      <th></th>\n",
              "      <th>COUPON_UPC</th>\n",
              "      <th>PRODUCT_ID</th>\n",
              "      <th>CAMPAIGN</th>\n",
              "    </tr>\n",
              "  </thead>\n",
              "  <tbody>\n",
              "    <tr>\n",
              "      <th>0</th>\n",
              "      <td>10000089061</td>\n",
              "      <td>27160</td>\n",
              "      <td>4</td>\n",
              "    </tr>\n",
              "    <tr>\n",
              "      <th>1</th>\n",
              "      <td>10000089064</td>\n",
              "      <td>27754</td>\n",
              "      <td>9</td>\n",
              "    </tr>\n",
              "    <tr>\n",
              "      <th>2</th>\n",
              "      <td>10000089073</td>\n",
              "      <td>28897</td>\n",
              "      <td>12</td>\n",
              "    </tr>\n",
              "    <tr>\n",
              "      <th>3</th>\n",
              "      <td>51800009050</td>\n",
              "      <td>28919</td>\n",
              "      <td>28</td>\n",
              "    </tr>\n",
              "    <tr>\n",
              "      <th>4</th>\n",
              "      <td>52100000076</td>\n",
              "      <td>28929</td>\n",
              "      <td>25</td>\n",
              "    </tr>\n",
              "    <tr>\n",
              "      <th>...</th>\n",
              "      <td>...</td>\n",
              "      <td>...</td>\n",
              "      <td>...</td>\n",
              "    </tr>\n",
              "    <tr>\n",
              "      <th>124543</th>\n",
              "      <td>10000085478</td>\n",
              "      <td>13038802</td>\n",
              "      <td>18</td>\n",
              "    </tr>\n",
              "    <tr>\n",
              "      <th>124544</th>\n",
              "      <td>10000085479</td>\n",
              "      <td>13039368</td>\n",
              "      <td>18</td>\n",
              "    </tr>\n",
              "    <tr>\n",
              "      <th>124545</th>\n",
              "      <td>10000085478</td>\n",
              "      <td>13039553</td>\n",
              "      <td>18</td>\n",
              "    </tr>\n",
              "    <tr>\n",
              "      <th>124546</th>\n",
              "      <td>10000085479</td>\n",
              "      <td>13776332</td>\n",
              "      <td>18</td>\n",
              "    </tr>\n",
              "    <tr>\n",
              "      <th>124547</th>\n",
              "      <td>10000085477</td>\n",
              "      <td>13213390</td>\n",
              "      <td>18</td>\n",
              "    </tr>\n",
              "  </tbody>\n",
              "</table>\n",
              "<p>124548 rows × 3 columns</p>\n",
              "</div>\n",
              "    <div class=\"colab-df-buttons\">\n",
              "\n",
              "  <div class=\"colab-df-container\">\n",
              "    <button class=\"colab-df-convert\" onclick=\"convertToInteractive('df-2d287316-e69c-4cdf-a1eb-98d03d952f4d')\"\n",
              "            title=\"Convert this dataframe to an interactive table.\"\n",
              "            style=\"display:none;\">\n",
              "\n",
              "  <svg xmlns=\"http://www.w3.org/2000/svg\" height=\"24px\" viewBox=\"0 -960 960 960\">\n",
              "    <path d=\"M120-120v-720h720v720H120Zm60-500h600v-160H180v160Zm220 220h160v-160H400v160Zm0 220h160v-160H400v160ZM180-400h160v-160H180v160Zm440 0h160v-160H620v160ZM180-180h160v-160H180v160Zm440 0h160v-160H620v160Z\"/>\n",
              "  </svg>\n",
              "    </button>\n",
              "\n",
              "  <style>\n",
              "    .colab-df-container {\n",
              "      display:flex;\n",
              "      gap: 12px;\n",
              "    }\n",
              "\n",
              "    .colab-df-convert {\n",
              "      background-color: #E8F0FE;\n",
              "      border: none;\n",
              "      border-radius: 50%;\n",
              "      cursor: pointer;\n",
              "      display: none;\n",
              "      fill: #1967D2;\n",
              "      height: 32px;\n",
              "      padding: 0 0 0 0;\n",
              "      width: 32px;\n",
              "    }\n",
              "\n",
              "    .colab-df-convert:hover {\n",
              "      background-color: #E2EBFA;\n",
              "      box-shadow: 0px 1px 2px rgba(60, 64, 67, 0.3), 0px 1px 3px 1px rgba(60, 64, 67, 0.15);\n",
              "      fill: #174EA6;\n",
              "    }\n",
              "\n",
              "    .colab-df-buttons div {\n",
              "      margin-bottom: 4px;\n",
              "    }\n",
              "\n",
              "    [theme=dark] .colab-df-convert {\n",
              "      background-color: #3B4455;\n",
              "      fill: #D2E3FC;\n",
              "    }\n",
              "\n",
              "    [theme=dark] .colab-df-convert:hover {\n",
              "      background-color: #434B5C;\n",
              "      box-shadow: 0px 1px 3px 1px rgba(0, 0, 0, 0.15);\n",
              "      filter: drop-shadow(0px 1px 2px rgba(0, 0, 0, 0.3));\n",
              "      fill: #FFFFFF;\n",
              "    }\n",
              "  </style>\n",
              "\n",
              "    <script>\n",
              "      const buttonEl =\n",
              "        document.querySelector('#df-2d287316-e69c-4cdf-a1eb-98d03d952f4d button.colab-df-convert');\n",
              "      buttonEl.style.display =\n",
              "        google.colab.kernel.accessAllowed ? 'block' : 'none';\n",
              "\n",
              "      async function convertToInteractive(key) {\n",
              "        const element = document.querySelector('#df-2d287316-e69c-4cdf-a1eb-98d03d952f4d');\n",
              "        const dataTable =\n",
              "          await google.colab.kernel.invokeFunction('convertToInteractive',\n",
              "                                                    [key], {});\n",
              "        if (!dataTable) return;\n",
              "\n",
              "        const docLinkHtml = 'Like what you see? Visit the ' +\n",
              "          '<a target=\"_blank\" href=https://colab.research.google.com/notebooks/data_table.ipynb>data table notebook</a>'\n",
              "          + ' to learn more about interactive tables.';\n",
              "        element.innerHTML = '';\n",
              "        dataTable['output_type'] = 'display_data';\n",
              "        await google.colab.output.renderOutput(dataTable, element);\n",
              "        const docLink = document.createElement('div');\n",
              "        docLink.innerHTML = docLinkHtml;\n",
              "        element.appendChild(docLink);\n",
              "      }\n",
              "    </script>\n",
              "  </div>\n",
              "\n",
              "\n",
              "<div id=\"df-0e41a433-9168-4b0a-8ea9-72be82315317\">\n",
              "  <button class=\"colab-df-quickchart\" onclick=\"quickchart('df-0e41a433-9168-4b0a-8ea9-72be82315317')\"\n",
              "            title=\"Suggest charts\"\n",
              "            style=\"display:none;\">\n",
              "\n",
              "<svg xmlns=\"http://www.w3.org/2000/svg\" height=\"24px\"viewBox=\"0 0 24 24\"\n",
              "     width=\"24px\">\n",
              "    <g>\n",
              "        <path d=\"M19 3H5c-1.1 0-2 .9-2 2v14c0 1.1.9 2 2 2h14c1.1 0 2-.9 2-2V5c0-1.1-.9-2-2-2zM9 17H7v-7h2v7zm4 0h-2V7h2v10zm4 0h-2v-4h2v4z\"/>\n",
              "    </g>\n",
              "</svg>\n",
              "  </button>\n",
              "\n",
              "<style>\n",
              "  .colab-df-quickchart {\n",
              "      --bg-color: #E8F0FE;\n",
              "      --fill-color: #1967D2;\n",
              "      --hover-bg-color: #E2EBFA;\n",
              "      --hover-fill-color: #174EA6;\n",
              "      --disabled-fill-color: #AAA;\n",
              "      --disabled-bg-color: #DDD;\n",
              "  }\n",
              "\n",
              "  [theme=dark] .colab-df-quickchart {\n",
              "      --bg-color: #3B4455;\n",
              "      --fill-color: #D2E3FC;\n",
              "      --hover-bg-color: #434B5C;\n",
              "      --hover-fill-color: #FFFFFF;\n",
              "      --disabled-bg-color: #3B4455;\n",
              "      --disabled-fill-color: #666;\n",
              "  }\n",
              "\n",
              "  .colab-df-quickchart {\n",
              "    background-color: var(--bg-color);\n",
              "    border: none;\n",
              "    border-radius: 50%;\n",
              "    cursor: pointer;\n",
              "    display: none;\n",
              "    fill: var(--fill-color);\n",
              "    height: 32px;\n",
              "    padding: 0;\n",
              "    width: 32px;\n",
              "  }\n",
              "\n",
              "  .colab-df-quickchart:hover {\n",
              "    background-color: var(--hover-bg-color);\n",
              "    box-shadow: 0 1px 2px rgba(60, 64, 67, 0.3), 0 1px 3px 1px rgba(60, 64, 67, 0.15);\n",
              "    fill: var(--button-hover-fill-color);\n",
              "  }\n",
              "\n",
              "  .colab-df-quickchart-complete:disabled,\n",
              "  .colab-df-quickchart-complete:disabled:hover {\n",
              "    background-color: var(--disabled-bg-color);\n",
              "    fill: var(--disabled-fill-color);\n",
              "    box-shadow: none;\n",
              "  }\n",
              "\n",
              "  .colab-df-spinner {\n",
              "    border: 2px solid var(--fill-color);\n",
              "    border-color: transparent;\n",
              "    border-bottom-color: var(--fill-color);\n",
              "    animation:\n",
              "      spin 1s steps(1) infinite;\n",
              "  }\n",
              "\n",
              "  @keyframes spin {\n",
              "    0% {\n",
              "      border-color: transparent;\n",
              "      border-bottom-color: var(--fill-color);\n",
              "      border-left-color: var(--fill-color);\n",
              "    }\n",
              "    20% {\n",
              "      border-color: transparent;\n",
              "      border-left-color: var(--fill-color);\n",
              "      border-top-color: var(--fill-color);\n",
              "    }\n",
              "    30% {\n",
              "      border-color: transparent;\n",
              "      border-left-color: var(--fill-color);\n",
              "      border-top-color: var(--fill-color);\n",
              "      border-right-color: var(--fill-color);\n",
              "    }\n",
              "    40% {\n",
              "      border-color: transparent;\n",
              "      border-right-color: var(--fill-color);\n",
              "      border-top-color: var(--fill-color);\n",
              "    }\n",
              "    60% {\n",
              "      border-color: transparent;\n",
              "      border-right-color: var(--fill-color);\n",
              "    }\n",
              "    80% {\n",
              "      border-color: transparent;\n",
              "      border-right-color: var(--fill-color);\n",
              "      border-bottom-color: var(--fill-color);\n",
              "    }\n",
              "    90% {\n",
              "      border-color: transparent;\n",
              "      border-bottom-color: var(--fill-color);\n",
              "    }\n",
              "  }\n",
              "</style>\n",
              "\n",
              "  <script>\n",
              "    async function quickchart(key) {\n",
              "      const quickchartButtonEl =\n",
              "        document.querySelector('#' + key + ' button');\n",
              "      quickchartButtonEl.disabled = true;  // To prevent multiple clicks.\n",
              "      quickchartButtonEl.classList.add('colab-df-spinner');\n",
              "      try {\n",
              "        const charts = await google.colab.kernel.invokeFunction(\n",
              "            'suggestCharts', [key], {});\n",
              "      } catch (error) {\n",
              "        console.error('Error during call to suggestCharts:', error);\n",
              "      }\n",
              "      quickchartButtonEl.classList.remove('colab-df-spinner');\n",
              "      quickchartButtonEl.classList.add('colab-df-quickchart-complete');\n",
              "    }\n",
              "    (() => {\n",
              "      let quickchartButtonEl =\n",
              "        document.querySelector('#df-0e41a433-9168-4b0a-8ea9-72be82315317 button');\n",
              "      quickchartButtonEl.style.display =\n",
              "        google.colab.kernel.accessAllowed ? 'block' : 'none';\n",
              "    })();\n",
              "  </script>\n",
              "</div>\n",
              "    </div>\n",
              "  </div>\n"
            ]
          },
          "metadata": {},
          "execution_count": 22
        }
      ],
      "id": "3peBshdTBKHF"
    },
    {
      "cell_type": "markdown",
      "source": [
        "## Coupon Redemptions\n",
        "Is a data table, ordered by household_key, gives which household redeemed what coupon number. Also the day of the redeem and the campaign number is given for each household."
      ],
      "metadata": {
        "id": "YXDlWflhBKHF"
      },
      "id": "YXDlWflhBKHF"
    },
    {
      "cell_type": "code",
      "source": [
        "dfs[\"coupon_redempt\"]"
      ],
      "metadata": {
        "trusted": true,
        "id": "X1NuRE9iBKHF",
        "outputId": "a79ccba3-defd-41b0-ab3a-a3d948535489",
        "colab": {
          "base_uri": "https://localhost:8080/",
          "height": 423
        }
      },
      "execution_count": 31,
      "outputs": [
        {
          "output_type": "execute_result",
          "data": {
            "text/plain": [
              "      household_key  DAY   COUPON_UPC  CAMPAIGN\n",
              "0                 1  421  10000085364         8\n",
              "1                 1  421  51700010076         8\n",
              "2                 1  427  54200000033         8\n",
              "3                 1  597  10000085476        18\n",
              "4                 1  597  54200029176        18\n",
              "...             ...  ...          ...       ...\n",
              "2313           2496  592  54900050076        18\n",
              "2314           2496  610  55100000013        18\n",
              "2315           2500  449  53663200076         8\n",
              "2316           2500  449  54300031076         8\n",
              "2317           2500  624  55000013950        18\n",
              "\n",
              "[2318 rows x 4 columns]"
            ],
            "text/html": [
              "\n",
              "  <div id=\"df-3b74b2b7-4b8c-4381-a6f5-24bf7f258d84\" class=\"colab-df-container\">\n",
              "    <div>\n",
              "<style scoped>\n",
              "    .dataframe tbody tr th:only-of-type {\n",
              "        vertical-align: middle;\n",
              "    }\n",
              "\n",
              "    .dataframe tbody tr th {\n",
              "        vertical-align: top;\n",
              "    }\n",
              "\n",
              "    .dataframe thead th {\n",
              "        text-align: right;\n",
              "    }\n",
              "</style>\n",
              "<table border=\"1\" class=\"dataframe\">\n",
              "  <thead>\n",
              "    <tr style=\"text-align: right;\">\n",
              "      <th></th>\n",
              "      <th>household_key</th>\n",
              "      <th>DAY</th>\n",
              "      <th>COUPON_UPC</th>\n",
              "      <th>CAMPAIGN</th>\n",
              "    </tr>\n",
              "  </thead>\n",
              "  <tbody>\n",
              "    <tr>\n",
              "      <th>0</th>\n",
              "      <td>1</td>\n",
              "      <td>421</td>\n",
              "      <td>10000085364</td>\n",
              "      <td>8</td>\n",
              "    </tr>\n",
              "    <tr>\n",
              "      <th>1</th>\n",
              "      <td>1</td>\n",
              "      <td>421</td>\n",
              "      <td>51700010076</td>\n",
              "      <td>8</td>\n",
              "    </tr>\n",
              "    <tr>\n",
              "      <th>2</th>\n",
              "      <td>1</td>\n",
              "      <td>427</td>\n",
              "      <td>54200000033</td>\n",
              "      <td>8</td>\n",
              "    </tr>\n",
              "    <tr>\n",
              "      <th>3</th>\n",
              "      <td>1</td>\n",
              "      <td>597</td>\n",
              "      <td>10000085476</td>\n",
              "      <td>18</td>\n",
              "    </tr>\n",
              "    <tr>\n",
              "      <th>4</th>\n",
              "      <td>1</td>\n",
              "      <td>597</td>\n",
              "      <td>54200029176</td>\n",
              "      <td>18</td>\n",
              "    </tr>\n",
              "    <tr>\n",
              "      <th>...</th>\n",
              "      <td>...</td>\n",
              "      <td>...</td>\n",
              "      <td>...</td>\n",
              "      <td>...</td>\n",
              "    </tr>\n",
              "    <tr>\n",
              "      <th>2313</th>\n",
              "      <td>2496</td>\n",
              "      <td>592</td>\n",
              "      <td>54900050076</td>\n",
              "      <td>18</td>\n",
              "    </tr>\n",
              "    <tr>\n",
              "      <th>2314</th>\n",
              "      <td>2496</td>\n",
              "      <td>610</td>\n",
              "      <td>55100000013</td>\n",
              "      <td>18</td>\n",
              "    </tr>\n",
              "    <tr>\n",
              "      <th>2315</th>\n",
              "      <td>2500</td>\n",
              "      <td>449</td>\n",
              "      <td>53663200076</td>\n",
              "      <td>8</td>\n",
              "    </tr>\n",
              "    <tr>\n",
              "      <th>2316</th>\n",
              "      <td>2500</td>\n",
              "      <td>449</td>\n",
              "      <td>54300031076</td>\n",
              "      <td>8</td>\n",
              "    </tr>\n",
              "    <tr>\n",
              "      <th>2317</th>\n",
              "      <td>2500</td>\n",
              "      <td>624</td>\n",
              "      <td>55000013950</td>\n",
              "      <td>18</td>\n",
              "    </tr>\n",
              "  </tbody>\n",
              "</table>\n",
              "<p>2318 rows × 4 columns</p>\n",
              "</div>\n",
              "    <div class=\"colab-df-buttons\">\n",
              "\n",
              "  <div class=\"colab-df-container\">\n",
              "    <button class=\"colab-df-convert\" onclick=\"convertToInteractive('df-3b74b2b7-4b8c-4381-a6f5-24bf7f258d84')\"\n",
              "            title=\"Convert this dataframe to an interactive table.\"\n",
              "            style=\"display:none;\">\n",
              "\n",
              "  <svg xmlns=\"http://www.w3.org/2000/svg\" height=\"24px\" viewBox=\"0 -960 960 960\">\n",
              "    <path d=\"M120-120v-720h720v720H120Zm60-500h600v-160H180v160Zm220 220h160v-160H400v160Zm0 220h160v-160H400v160ZM180-400h160v-160H180v160Zm440 0h160v-160H620v160ZM180-180h160v-160H180v160Zm440 0h160v-160H620v160Z\"/>\n",
              "  </svg>\n",
              "    </button>\n",
              "\n",
              "  <style>\n",
              "    .colab-df-container {\n",
              "      display:flex;\n",
              "      gap: 12px;\n",
              "    }\n",
              "\n",
              "    .colab-df-convert {\n",
              "      background-color: #E8F0FE;\n",
              "      border: none;\n",
              "      border-radius: 50%;\n",
              "      cursor: pointer;\n",
              "      display: none;\n",
              "      fill: #1967D2;\n",
              "      height: 32px;\n",
              "      padding: 0 0 0 0;\n",
              "      width: 32px;\n",
              "    }\n",
              "\n",
              "    .colab-df-convert:hover {\n",
              "      background-color: #E2EBFA;\n",
              "      box-shadow: 0px 1px 2px rgba(60, 64, 67, 0.3), 0px 1px 3px 1px rgba(60, 64, 67, 0.15);\n",
              "      fill: #174EA6;\n",
              "    }\n",
              "\n",
              "    .colab-df-buttons div {\n",
              "      margin-bottom: 4px;\n",
              "    }\n",
              "\n",
              "    [theme=dark] .colab-df-convert {\n",
              "      background-color: #3B4455;\n",
              "      fill: #D2E3FC;\n",
              "    }\n",
              "\n",
              "    [theme=dark] .colab-df-convert:hover {\n",
              "      background-color: #434B5C;\n",
              "      box-shadow: 0px 1px 3px 1px rgba(0, 0, 0, 0.15);\n",
              "      filter: drop-shadow(0px 1px 2px rgba(0, 0, 0, 0.3));\n",
              "      fill: #FFFFFF;\n",
              "    }\n",
              "  </style>\n",
              "\n",
              "    <script>\n",
              "      const buttonEl =\n",
              "        document.querySelector('#df-3b74b2b7-4b8c-4381-a6f5-24bf7f258d84 button.colab-df-convert');\n",
              "      buttonEl.style.display =\n",
              "        google.colab.kernel.accessAllowed ? 'block' : 'none';\n",
              "\n",
              "      async function convertToInteractive(key) {\n",
              "        const element = document.querySelector('#df-3b74b2b7-4b8c-4381-a6f5-24bf7f258d84');\n",
              "        const dataTable =\n",
              "          await google.colab.kernel.invokeFunction('convertToInteractive',\n",
              "                                                    [key], {});\n",
              "        if (!dataTable) return;\n",
              "\n",
              "        const docLinkHtml = 'Like what you see? Visit the ' +\n",
              "          '<a target=\"_blank\" href=https://colab.research.google.com/notebooks/data_table.ipynb>data table notebook</a>'\n",
              "          + ' to learn more about interactive tables.';\n",
              "        element.innerHTML = '';\n",
              "        dataTable['output_type'] = 'display_data';\n",
              "        await google.colab.output.renderOutput(dataTable, element);\n",
              "        const docLink = document.createElement('div');\n",
              "        docLink.innerHTML = docLinkHtml;\n",
              "        element.appendChild(docLink);\n",
              "      }\n",
              "    </script>\n",
              "  </div>\n",
              "\n",
              "\n",
              "<div id=\"df-356ace05-c65f-490f-a872-c9e00cad7f41\">\n",
              "  <button class=\"colab-df-quickchart\" onclick=\"quickchart('df-356ace05-c65f-490f-a872-c9e00cad7f41')\"\n",
              "            title=\"Suggest charts\"\n",
              "            style=\"display:none;\">\n",
              "\n",
              "<svg xmlns=\"http://www.w3.org/2000/svg\" height=\"24px\"viewBox=\"0 0 24 24\"\n",
              "     width=\"24px\">\n",
              "    <g>\n",
              "        <path d=\"M19 3H5c-1.1 0-2 .9-2 2v14c0 1.1.9 2 2 2h14c1.1 0 2-.9 2-2V5c0-1.1-.9-2-2-2zM9 17H7v-7h2v7zm4 0h-2V7h2v10zm4 0h-2v-4h2v4z\"/>\n",
              "    </g>\n",
              "</svg>\n",
              "  </button>\n",
              "\n",
              "<style>\n",
              "  .colab-df-quickchart {\n",
              "      --bg-color: #E8F0FE;\n",
              "      --fill-color: #1967D2;\n",
              "      --hover-bg-color: #E2EBFA;\n",
              "      --hover-fill-color: #174EA6;\n",
              "      --disabled-fill-color: #AAA;\n",
              "      --disabled-bg-color: #DDD;\n",
              "  }\n",
              "\n",
              "  [theme=dark] .colab-df-quickchart {\n",
              "      --bg-color: #3B4455;\n",
              "      --fill-color: #D2E3FC;\n",
              "      --hover-bg-color: #434B5C;\n",
              "      --hover-fill-color: #FFFFFF;\n",
              "      --disabled-bg-color: #3B4455;\n",
              "      --disabled-fill-color: #666;\n",
              "  }\n",
              "\n",
              "  .colab-df-quickchart {\n",
              "    background-color: var(--bg-color);\n",
              "    border: none;\n",
              "    border-radius: 50%;\n",
              "    cursor: pointer;\n",
              "    display: none;\n",
              "    fill: var(--fill-color);\n",
              "    height: 32px;\n",
              "    padding: 0;\n",
              "    width: 32px;\n",
              "  }\n",
              "\n",
              "  .colab-df-quickchart:hover {\n",
              "    background-color: var(--hover-bg-color);\n",
              "    box-shadow: 0 1px 2px rgba(60, 64, 67, 0.3), 0 1px 3px 1px rgba(60, 64, 67, 0.15);\n",
              "    fill: var(--button-hover-fill-color);\n",
              "  }\n",
              "\n",
              "  .colab-df-quickchart-complete:disabled,\n",
              "  .colab-df-quickchart-complete:disabled:hover {\n",
              "    background-color: var(--disabled-bg-color);\n",
              "    fill: var(--disabled-fill-color);\n",
              "    box-shadow: none;\n",
              "  }\n",
              "\n",
              "  .colab-df-spinner {\n",
              "    border: 2px solid var(--fill-color);\n",
              "    border-color: transparent;\n",
              "    border-bottom-color: var(--fill-color);\n",
              "    animation:\n",
              "      spin 1s steps(1) infinite;\n",
              "  }\n",
              "\n",
              "  @keyframes spin {\n",
              "    0% {\n",
              "      border-color: transparent;\n",
              "      border-bottom-color: var(--fill-color);\n",
              "      border-left-color: var(--fill-color);\n",
              "    }\n",
              "    20% {\n",
              "      border-color: transparent;\n",
              "      border-left-color: var(--fill-color);\n",
              "      border-top-color: var(--fill-color);\n",
              "    }\n",
              "    30% {\n",
              "      border-color: transparent;\n",
              "      border-left-color: var(--fill-color);\n",
              "      border-top-color: var(--fill-color);\n",
              "      border-right-color: var(--fill-color);\n",
              "    }\n",
              "    40% {\n",
              "      border-color: transparent;\n",
              "      border-right-color: var(--fill-color);\n",
              "      border-top-color: var(--fill-color);\n",
              "    }\n",
              "    60% {\n",
              "      border-color: transparent;\n",
              "      border-right-color: var(--fill-color);\n",
              "    }\n",
              "    80% {\n",
              "      border-color: transparent;\n",
              "      border-right-color: var(--fill-color);\n",
              "      border-bottom-color: var(--fill-color);\n",
              "    }\n",
              "    90% {\n",
              "      border-color: transparent;\n",
              "      border-bottom-color: var(--fill-color);\n",
              "    }\n",
              "  }\n",
              "</style>\n",
              "\n",
              "  <script>\n",
              "    async function quickchart(key) {\n",
              "      const quickchartButtonEl =\n",
              "        document.querySelector('#' + key + ' button');\n",
              "      quickchartButtonEl.disabled = true;  // To prevent multiple clicks.\n",
              "      quickchartButtonEl.classList.add('colab-df-spinner');\n",
              "      try {\n",
              "        const charts = await google.colab.kernel.invokeFunction(\n",
              "            'suggestCharts', [key], {});\n",
              "      } catch (error) {\n",
              "        console.error('Error during call to suggestCharts:', error);\n",
              "      }\n",
              "      quickchartButtonEl.classList.remove('colab-df-spinner');\n",
              "      quickchartButtonEl.classList.add('colab-df-quickchart-complete');\n",
              "    }\n",
              "    (() => {\n",
              "      let quickchartButtonEl =\n",
              "        document.querySelector('#df-356ace05-c65f-490f-a872-c9e00cad7f41 button');\n",
              "      quickchartButtonEl.style.display =\n",
              "        google.colab.kernel.accessAllowed ? 'block' : 'none';\n",
              "    })();\n",
              "  </script>\n",
              "</div>\n",
              "    </div>\n",
              "  </div>\n"
            ]
          },
          "metadata": {},
          "execution_count": 31
        }
      ],
      "id": "X1NuRE9iBKHF"
    },
    {
      "cell_type": "markdown",
      "source": [
        "Out of 2500 households, only 434 of them (17%) redeemed coupons within this period."
      ],
      "metadata": {
        "id": "1lTbZSZBBKHF"
      },
      "id": "1lTbZSZBBKHF"
    },
    {
      "cell_type": "code",
      "source": [
        "len(dfs[\"coupon_redempt\"].household_key.unique())"
      ],
      "metadata": {
        "trusted": true,
        "id": "KYKTO-RZBKHG",
        "outputId": "3d7d6fb9-8b61-4284-f0cf-0d874c8eba56",
        "colab": {
          "base_uri": "https://localhost:8080/"
        }
      },
      "execution_count": 24,
      "outputs": [
        {
          "output_type": "execute_result",
          "data": {
            "text/plain": [
              "434"
            ]
          },
          "metadata": {},
          "execution_count": 24
        }
      ],
      "id": "KYKTO-RZBKHG"
    },
    {
      "cell_type": "markdown",
      "source": [
        "### Number of Redeems for each Campaign\n",
        "Most frequent campaigns (18, 13 and 8, all belongs to TypeA) attracts the most number of redeems as expected. The barchart below gives the number of redeems per campaign."
      ],
      "metadata": {
        "id": "1aUo0yUMBKHG"
      },
      "id": "1aUo0yUMBKHG"
    },
    {
      "cell_type": "code",
      "source": [
        "redeem_frequency = pd.DataFrame(list(zip(dfs[\"coupon_redempt\"].CAMPAIGN.value_counts().index, dfs[\"coupon_redempt\"].CAMPAIGN.value_counts())),columns=[\"Campaign\",\"No of Redeems\"])\n",
        "fig = plt.figure(figsize=(14,8))\n",
        "sns.barplot(y=\"Campaign\",x=\"No of Redeems\",data = redeem_frequency,orient=\"h\",order=redeem_frequency.Campaign,\n",
        "            palette='husl')\n",
        "plt.title('Number of Redeems Each Campaign', fontsize=17)\n",
        "plt.xlabel('No of Redeems', fontsize=14)\n",
        "plt.ylabel('Campaign No.', fontsize=14)\n",
        "plt.show()"
      ],
      "metadata": {
        "trusted": true,
        "id": "WfYMB__uBKHG",
        "outputId": "b7ac13fc-bcc5-4a63-ac8e-77f9bfd9e16e",
        "colab": {
          "base_uri": "https://localhost:8080/",
          "height": 701
        }
      },
      "execution_count": 33,
      "outputs": [
        {
          "output_type": "display_data",
          "data": {
            "text/plain": [
              "<Figure size 1400x800 with 1 Axes>"
            ],
            "image/png": "[encoded data removed]"
          },
          "metadata": {}
        }
      ],
      "id": "WfYMB__uBKHG"
    },
    {
      "cell_type": "markdown",
      "source": [
        "The barchart below gives the redeem rates of each campaign in a descending order. Campaign 13 and 18 are clearly have higher redeem rates (~60%) as compared to the rest of campaigns.\n",
        "\n",
        "Based on these results, campaign organisers did well by promoting the right campaigns (13 and 18) more frequently."
      ],
      "metadata": {
        "id": "tJb-iO3XBKHG"
      },
      "id": "tJb-iO3XBKHG"
    },
    {
      "cell_type": "code",
      "source": [
        "redems_per_camp = dfs[\"coupon_redempt\"].CAMPAIGN.value_counts().sort_values()/dfs[\"campaign_table\"].CAMPAIGN.value_counts().sort_values()\n",
        "redems_per_camp = pd.DataFrame(list(zip(redems_per_camp.index,redems_per_camp)),\n",
        "                               columns=[\"Campaign\",\"Redeem_Rate\"]).sort_values(by=\"Redeem_Rate\",ascending=False)\n",
        "plt.figure(figsize=(12,8))\n",
        "sns.barplot(y=\"Campaign\",x=\"Redeem_Rate\",data=redems_per_camp,orient=\"h\",order=redems_per_camp.Campaign)\n",
        "plt.title('Redeem Rate per Campaign', fontsize=17)\n",
        "plt.xlabel('Redeem Rate', fontsize=14)\n",
        "plt.ylabel('Campaign No.', fontsize=14)\n",
        "plt.show()"
      ],
      "metadata": {
        "trusted": true,
        "id": "4QjDXp24BKHG",
        "outputId": "44755ecc-dacb-450c-cb06-d1e5ec2c64fb",
        "colab": {
          "base_uri": "https://localhost:8080/",
          "height": 728
        }
      },
      "execution_count": 32,
      "outputs": [
        {
          "output_type": "display_data",
          "data": {
            "text/plain": [
              "<Figure size 1200x800 with 1 Axes>"
            ],
            "image/png": "[encoded data removed]"
          },
          "metadata": {}
        }
      ],
      "id": "4QjDXp24BKHG"
    },
    {
      "cell_type": "markdown",
      "source": [
        "### Transactional Data\n",
        "Transactional data contains purchase history of each household. It contains the product ID and sales value, store ID and all other transactional features."
      ],
      "metadata": {
        "id": "U6VE_37zBKHG"
      },
      "id": "U6VE_37zBKHG"
    },
    {
      "cell_type": "code",
      "source": [
        "dfs[\"transaction_data\"] = pd.read_csv(\"/kaggle/input/dunnhumby-the-complete-journey/transaction_data.csv\")\n",
        "dfs[\"transaction_data\"].head()"
      ],
      "metadata": {
        "trusted": true,
        "id": "SzmC3pI1BKHG"
      },
      "execution_count": null,
      "outputs": [],
      "id": "SzmC3pI1BKHG"
    },
    {
      "cell_type": "markdown",
      "source": [
        "#### Now lets do some descriptive analysis on the transactional data. First, let's group the data by household numbers:"
      ],
      "metadata": {
        "id": "sAw63fBeBKHH"
      },
      "id": "sAw63fBeBKHH"
    },
    {
      "cell_type": "code",
      "source": [
        "grouped_sum = dfs[\"transaction_data\"].groupby(\"household_key\").sum()"
      ],
      "metadata": {
        "trusted": true,
        "id": "xEZwlXkqBKHH"
      },
      "execution_count": null,
      "outputs": [],
      "id": "xEZwlXkqBKHH"
    },
    {
      "cell_type": "markdown",
      "source": [
        "#### Average amount of purchase by a household within these two years is:"
      ],
      "metadata": {
        "id": "gAQjdM5lBKHH"
      },
      "id": "gAQjdM5lBKHH"
    },
    {
      "cell_type": "code",
      "source": [
        "av_purc = round(dfs['transaction_data'].SALES_VALUE.sum()/len(grouped_sum),1)\n",
        "av_purc"
      ],
      "metadata": {
        "trusted": true,
        "id": "whxDRmDIBKHH"
      },
      "execution_count": null,
      "outputs": [],
      "id": "whxDRmDIBKHH"
    },
    {
      "cell_type": "markdown",
      "source": [
        "#### Average total number of products purchased by a household within two years is:"
      ],
      "metadata": {
        "id": "kb669tdWBKHH"
      },
      "id": "kb669tdWBKHH"
    },
    {
      "cell_type": "code",
      "source": [
        "av_tot_prod = round(grouped_sum[\"QUANTITY\"].mean(),1)\n",
        "av_tot_prod"
      ],
      "metadata": {
        "trusted": true,
        "id": "rN3iMS8fBKHI"
      },
      "execution_count": null,
      "outputs": [],
      "id": "rN3iMS8fBKHI"
    },
    {
      "cell_type": "markdown",
      "source": [
        "#### Average total number of unique products purchased by a household within two years is:"
      ],
      "metadata": {
        "id": "zV3qMBKyBKHI"
      },
      "id": "zV3qMBKyBKHI"
    },
    {
      "cell_type": "code",
      "source": [
        "av_uniq_prod = round(len(dfs[\"transaction_data\"].groupby([\"household_key\",\"PRODUCT_ID\"]).sum()[\"QUANTITY\"])/len(grouped_sum),1)\n",
        "av_uniq_prod"
      ],
      "metadata": {
        "trusted": true,
        "id": "a-EHxM2KBKHI"
      },
      "execution_count": null,
      "outputs": [],
      "id": "a-EHxM2KBKHI"
    },
    {
      "cell_type": "markdown",
      "source": [
        "#### Average number of store visits per household within two years is:"
      ],
      "metadata": {
        "id": "KsFFxz8-BKHJ"
      },
      "id": "KsFFxz8-BKHJ"
    },
    {
      "cell_type": "code",
      "source": [
        "av_days_visited = round(len(dfs[\"transaction_data\"].groupby([\"household_key\",\"DAY\"]).count())/len(grouped_sum),1)\n",
        "av_days_visited"
      ],
      "metadata": {
        "trusted": true,
        "id": "GIGgSOxzBKHJ"
      },
      "execution_count": null,
      "outputs": [],
      "id": "GIGgSOxzBKHJ"
    },
    {
      "cell_type": "markdown",
      "source": [
        "### Top Stores\n",
        "Top 20 stores based on total sales amount (USD) is calculated and plotted below. Stores with IDs of 367 and 406 made the most sales amongst 582 stores with over $200,000 each."
      ],
      "metadata": {
        "id": "yLPyhQN-BKHJ"
      },
      "id": "yLPyhQN-BKHJ"
    },
    {
      "cell_type": "code",
      "source": [
        "sales_per_store = dfs[\"transaction_data\"].groupby(\"STORE_ID\").sum()[\"SALES_VALUE\"].sort_values(ascending=False)\n",
        "sales_per_store = pd.DataFrame(list(zip(sales_per_store.index,sales_per_store)),columns=[\"Store ID\",\"Total Sales (USD)\"])\n",
        "fig_store = plt.figure(figsize=(14,8))\n",
        "sns.barplot(y=\"Store ID\",x=\"Total Sales (USD)\",data = sales_per_store[:20],order=sales_per_store[:20][\"Store ID\"],orient=\"h\")\n",
        "plt.title('Top 20 Stores based on Sale Amount', fontsize=17)\n",
        "plt.xlabel('Total Sales (USD)', fontsize=14)\n",
        "plt.ylabel('Store ID', fontsize=14)\n",
        "plt.show()"
      ],
      "metadata": {
        "trusted": true,
        "id": "qkou4uosBKHJ"
      },
      "execution_count": null,
      "outputs": [],
      "id": "qkou4uosBKHJ"
    },
    {
      "cell_type": "markdown",
      "source": [
        "#### Top 20 customers based on total purchase amount (USD)\n",
        "Top customer is with the ID of 1023 who made the most purchases amongst 2500 house holds with almost $40,000."
      ],
      "metadata": {
        "id": "UJLIlDIUBKHL"
      },
      "id": "UJLIlDIUBKHL"
    },
    {
      "cell_type": "code",
      "source": [
        "purc_per_cust = dfs[\"transaction_data\"].groupby(\"household_key\").sum()[\"SALES_VALUE\"].sort_values(ascending=False)\n",
        "purc_per_cust = pd.DataFrame(list(zip(purc_per_cust.index,purc_per_cust)),columns=[\"household_key\",\"Total Purchase (USD)\"])\n",
        "fig_store = plt.figure(figsize=(14,8))\n",
        "sns.barplot(y=\"household_key\",x=\"Total Purchase (USD)\",data = purc_per_cust[:20],order=purc_per_cust[:20][\"household_key\"],orient=\"h\")\n",
        "plt.title('Top 20 Customers based on Purchase Number', fontsize=17)\n",
        "plt.xlabel('Total Purchases (USD)', fontsize=14)\n",
        "plt.ylabel('Household Key', fontsize=14)\n",
        "plt.show()"
      ],
      "metadata": {
        "trusted": true,
        "id": "7FXSq9eRBKHL"
      },
      "execution_count": null,
      "outputs": [],
      "id": "7FXSq9eRBKHL"
    },
    {
      "cell_type": "markdown",
      "source": [
        "### Demographics Data\n",
        "Demographics data contains household demographical information such as age group, marital status and househols size. We will be using this table as a base and add few columns after feature engineering. Target variable for the churn prediction will be added in the final dataset before moving on to the predictive modelling."
      ],
      "metadata": {
        "id": "Fu7RPJhdBKHL"
      },
      "id": "Fu7RPJhdBKHL"
    },
    {
      "cell_type": "code",
      "source": [
        "dfs[\"hh_demographic\"] = pd.read_csv(\"/kaggle/input/dunnhumby-the-complete-journey/hh_demographic.csv\")\n",
        "dfs[\"hh_demographic\"].head()"
      ],
      "metadata": {
        "trusted": true,
        "id": "-_wbbQmaBKHL"
      },
      "execution_count": null,
      "outputs": [],
      "id": "-_wbbQmaBKHL"
    },
    {
      "cell_type": "markdown",
      "source": [
        "Lets first start defining the functions for exploratory analysis of demographic variables:"
      ],
      "metadata": {
        "id": "nCrPZA9DBKHL"
      },
      "id": "nCrPZA9DBKHL"
    },
    {
      "cell_type": "code",
      "source": [
        "def pie_categorical(data):\n",
        "    #function to plot the histogram of categorical variables in pie graph\n",
        "    features = data.columns\n",
        "    #plot pie charts of categorical variables\n",
        "    fig_pie_cat = plt.figure(figsize=(15,15))\n",
        "    count = 1\n",
        "    #calculate dynamic numbers of subplot rows and columns\n",
        "    cols = int(np.ceil(np.sqrt(len(features))))\n",
        "    rows = int(np.ceil(len(features)/cols))\n",
        "    for i in features:\n",
        "        ax = fig_pie_cat.add_subplot(rows,cols,count)\n",
        "        data[i].value_counts().plot(kind=\"pie\",autopct=\"%.1f%%\",ax=ax)\n",
        "        plt.ylabel(\"\")\n",
        "        plt.title(i,fontweight=\"bold\",fontsize=8)\n",
        "        count += 1\n",
        "\n",
        "def hist_numeric(data):\n",
        "    #function to plot the histogram of numeric variables\n",
        "    features = data.columns\n",
        "    fig_hists = plt.figure(figsize=(15,15))\n",
        "    fig_hists.subplots_adjust(hspace=0.5,wspace=0.5)\n",
        "    count = 1\n",
        "    #calculate dynamic numbers of subplot rows and columns\n",
        "    cols = int(np.ceil(np.sqrt(len(features))))\n",
        "    rows = int(np.ceil(len(features)/cols))\n",
        "    for i in features:\n",
        "        ax = fig_hists.add_subplot(rows,cols,count)\n",
        "        data[i].plot(kind=\"hist\",alpha=.5,bins=25,edgecolor=\"navy\",legend=False,ax=ax)\n",
        "        ax.set_xlabel(\"\")\n",
        "        ax.set_title(i,fontweight=\"bold\",fontsize=10)\n",
        "        count += 1"
      ],
      "metadata": {
        "trusted": true,
        "id": "5JG1bdcEBKHM"
      },
      "execution_count": null,
      "outputs": [],
      "id": "5JG1bdcEBKHM"
    },
    {
      "cell_type": "markdown",
      "source": [
        "\n",
        "Since all variables are categorical in the demographics dataset, we will use our _piecategorical function. The pie charts below gives the distribution of each categorical variable in the demographics dataset.\n",
        "\n",
        "Some interesting findings:\n",
        "\n",
        "* Majority of the customers age in between 35-54 (~60%)\n",
        "* Married couples are almost 3 times the singles\n",
        "* Almost half of the population have a yearly salary between $35-74K\n",
        "* Majority of the customers own a house (63%)\n",
        "* Majority of the customers does not have a child (~70%)"
      ],
      "metadata": {
        "id": "8S3KUkfIBKHM"
      },
      "id": "8S3KUkfIBKHM"
    },
    {
      "cell_type": "code",
      "source": [
        "pie_categorical(dfs[\"hh_demographic\"].drop(\"household_key\",axis=1))"
      ],
      "metadata": {
        "trusted": true,
        "id": "X-s0Y2JWBKHM"
      },
      "execution_count": null,
      "outputs": [],
      "id": "X-s0Y2JWBKHM"
    },
    {
      "cell_type": "markdown",
      "source": [
        "## Churn Prediction\n",
        "Let's start working on the \"Churn Prediction\" problem from here.\n",
        "\n",
        "Datasets have been examined and found out that it does not contain a column which indicates whether customer(household) is churned or not. Therefore we will have to define our own churn definition and move on to the modelling.\n",
        "\n",
        "Churn rate works well for subscription-based products or ones that have regular nature of interactions like Netflix subscription. It’s clear that customer has churned at the moment when he cancels or misses the next planned payment.\n",
        "\n",
        "When we know which customers have churned we can ask them for reasons and prioritize fixes for them. But for not regular, transactional products churn rate is hard to measure since we don’t know which customers are churned and which are dormant.\n",
        "\n",
        "A generally accepted retail churn rate is between five to sevent percent per year. Less than five percent is a great goal, but a churn rate over ten percent is cause for concern. Even as you acquire more customers, your business can't grow unless you have a greater volume of incoming customers than outgoing ones.\n",
        "\n",
        "Satisfying existing customers is actually more profitable than obtaining new ones. **It costs five times more to obtain a new customer than it does to retain an existing customer**. Decreasing your churn rate by five percent increases profits up to 125%.\n",
        "\n",
        "Let's define transactional churn:\n",
        "\n",
        "**A customer will be considered as churned if not purchased from a store 2 weeks or more.**\n",
        "\n",
        "2 weeks out threshold is chosen as it splits households around 85%/15% No Churn/Churn."
      ],
      "metadata": {
        "id": "iCWRW9Q9BKHM"
      },
      "id": "iCWRW9Q9BKHM"
    },
    {
      "cell_type": "code",
      "source": [
        "out_weeks_threshold = 2\n",
        "\n",
        "#weekly customer purchase amount\n",
        "weekly_purchase = dfs[\"transaction_data\"].groupby([\"household_key\",\"WEEK_NO\"]).sum()[\"SALES_VALUE\"]\n",
        "weekly_purchase = weekly_purchase.unstack()\n",
        "\n",
        "#customer churned by their last 2 week's purchasing behaviour\n",
        "#go through all households and calculate out weeks\n",
        "target = []\n",
        "common_houses = set(dfs[\"hh_demographic\"].household_key) & set(dfs[\"transaction_data\"].household_key)\n",
        "for house in common_houses:\n",
        "  target.append(102-weekly_purchase.loc[house].dropna().index[-1])\n",
        "\n",
        "target = pd.DataFrame(list(zip(common_houses,target)),columns=[\"household_key\",\"No. of Churned Weeks\"])\n",
        "plt.figure(figsize=(10,6))\n",
        "ax = sns.distplot(target[\"No. of Churned Weeks\"],kde=False)\n",
        "ax.axvline(x=out_weeks_threshold,c=\"red\",label=\"Out weeks threshold\")\n",
        "ax.legend()\n",
        "ax.set_yscale(\"log\")\n",
        "ax.set_ylabel(\"Frequency (Log)\", fontsize=14)\n",
        "ax.set_xlabel(\"No. of Churned Weeks\", fontsize=14)\n",
        "\n",
        "plt.title('Churn Weeks Number', fontsize=17)\n",
        "# plt.xlabel('Total Purchases (USD)', fontsize=14)\n",
        "# plt.ylabel('Household Key', fontsize=14)\n",
        "plt.show()"
      ],
      "metadata": {
        "trusted": true,
        "id": "uNexg_xyBKHN"
      },
      "execution_count": null,
      "outputs": [],
      "id": "uNexg_xyBKHN"
    },
    {
      "cell_type": "markdown",
      "source": [
        "Now lets generate our target variable for modelling:\n",
        "\n",
        "* Churned -> True\n",
        "* Not Churned -> False"
      ],
      "metadata": {
        "id": "yf3pyxPiBKHN"
      },
      "id": "yf3pyxPiBKHN"
    },
    {
      "cell_type": "code",
      "source": [
        "target[\"isChurned\"] = target[\"No. of Churned Weeks\"]>=out_weeks_threshold\n",
        "target.drop(\"No. of Churned Weeks\",axis=1,inplace=True)"
      ],
      "metadata": {
        "trusted": true,
        "id": "JuIYBlnbBKHN"
      },
      "execution_count": null,
      "outputs": [],
      "id": "JuIYBlnbBKHN"
    },
    {
      "cell_type": "markdown",
      "source": [
        "Let's see how households split with the defined churn:"
      ],
      "metadata": {
        "id": "AM8NmC3OBKHN"
      },
      "id": "AM8NmC3OBKHN"
    },
    {
      "cell_type": "code",
      "source": [
        "target.isChurned.value_counts().plot(kind=\"pie\",autopct=\"%.1f%%\",labels=[\"Non-Churned\",\"Churned\"])\n",
        "plt.ylabel(\"\")\n",
        "plt.title(\"Churn Variable Distribution\",fontweight=\"bold\")\n",
        "plt.show()"
      ],
      "metadata": {
        "trusted": true,
        "id": "HCVLxN6lBKHN"
      },
      "execution_count": null,
      "outputs": [],
      "id": "HCVLxN6lBKHN"
    },
    {
      "cell_type": "markdown",
      "source": [
        "### Feature engineering\n",
        "Let's generate some features from the \"Campaign Table\", \"Transaction Data\" and \"Coupon Redempt\" tables to be used in the churn prediction model:\n",
        "\n",
        "**Feature 1**: List of campaigns received by each household:"
      ],
      "metadata": {
        "id": "5N-wFgQSBKHO"
      },
      "id": "5N-wFgQSBKHO"
    },
    {
      "cell_type": "code",
      "source": [
        "household_per_campaign = dfs[\"campaign_table\"].groupby(\"CAMPAIGN\")[\"household_key\"].apply(list)\n",
        "total_campaigns = len(dfs[\"campaign_table\"].CAMPAIGN.unique())\n",
        "df_camp = pd.DataFrame(np.full((total_households,total_campaigns),0),columns=[\"Camp_\"+str(i) for i in range(1,total_campaigns+1)],\n",
        "                                                                                                           index=range(1,total_households+1))\n",
        "for camp in household_per_campaign.index:\n",
        "    df_camp.loc[household_per_campaign[camp],\"Camp_\"+str(camp)] = 1\n",
        "\n",
        "df_camp[\"household_key\"] = df_camp.index"
      ],
      "metadata": {
        "trusted": true,
        "id": "BeBSlYAhBKHO"
      },
      "execution_count": null,
      "outputs": [],
      "id": "BeBSlYAhBKHO"
    },
    {
      "cell_type": "markdown",
      "source": [
        "**Feature 2**: Total number of received campaigns per household:"
      ],
      "metadata": {
        "id": "hPel9Z9LBKHO"
      },
      "id": "hPel9Z9LBKHO"
    },
    {
      "cell_type": "code",
      "source": [
        "temp = dfs[\"campaign_table\"].household_key.value_counts().sort_index()\n",
        "no_of_received_campaigns = pd.DataFrame(list(zip(temp.index,temp.values.astype(int))),columns=[\"household_key\",\"no_of_received_campaigns\"])"
      ],
      "metadata": {
        "trusted": true,
        "id": "PJp2qlbnBKHO"
      },
      "execution_count": null,
      "outputs": [],
      "id": "PJp2qlbnBKHO"
    },
    {
      "cell_type": "markdown",
      "source": [
        "\n",
        "Lets see if the \"number\" of campaigns being received affects a household's purchase behaviour.\n",
        "\n",
        "The correlation between the number of campaigns received by a household and their total purchase amount is visualised in a scatter plot below. Linear line in the graph shows the regression model fitted to the scattered data. One can say the aforementioned variables are linearly related."
      ],
      "metadata": {
        "id": "2p-e9fE3BKHO"
      },
      "id": "2p-e9fE3BKHO"
    },
    {
      "cell_type": "code",
      "source": [
        "# plt.figure(figsize=(14,4))\n",
        "no_of_received_campaigns_vs_sumsales = pd.merge(no_of_received_campaigns,purc_per_cust,on=\"household_key\")\n",
        "sns.lmplot(x=\"no_of_received_campaigns\",y=\"Total Purchase (USD)\",data=no_of_received_campaigns_vs_sumsales,\n",
        "                                                                                                          size=6, aspect=1.3)\n",
        "plt.title('Correlation between Total Purchases and Number of Recieved Campaigns', fontsize=17)\n",
        "plt.xlabel('Total Purchases (USD)', fontsize=14)\n",
        "plt.ylabel('Number of Recieved Campaigns', fontsize=14)\n",
        "plt.show()"
      ],
      "metadata": {
        "trusted": true,
        "id": "fHnSTk3EBKHP"
      },
      "execution_count": null,
      "outputs": [],
      "id": "fHnSTk3EBKHP"
    },
    {
      "cell_type": "code",
      "source": [
        "no_of_received_campaigns_vs_sumsales.drop(\"household_key\",axis=1).corr()"
      ],
      "metadata": {
        "trusted": true,
        "id": "_Q9K181HBKHP"
      },
      "execution_count": null,
      "outputs": [],
      "id": "_Q9K181HBKHP"
    },
    {
      "cell_type": "markdown",
      "source": [
        "The scatter plot and the correlation value above (71%) indicates that the total purchase amount of a household is positively correlated to the number of campaigns received by them.\n",
        "\n",
        "**Feature 3**: List of campaigns resulted in coupon redemption:"
      ],
      "metadata": {
        "id": "cg28g7MqBKHP"
      },
      "id": "cg28g7MqBKHP"
    },
    {
      "cell_type": "code",
      "source": [
        "temp = dfs[\"coupon_redempt\"].groupby(\"household_key\")[\"CAMPAIGN\"].apply(list)\n",
        "rede_camp_history_per_household = pd.DataFrame(list(zip(temp.index,temp.values)),columns=[\"household_key\",\"redeemed_CAMPAIGN_list\"])"
      ],
      "metadata": {
        "trusted": true,
        "id": "aRrK8o0HBKHP"
      },
      "execution_count": null,
      "outputs": [],
      "id": "aRrK8o0HBKHP"
    },
    {
      "cell_type": "markdown",
      "source": [
        "**Feature 4**: The number of redemptions made by each household:"
      ],
      "metadata": {
        "id": "OVxg7o5pBKHP"
      },
      "id": "OVxg7o5pBKHP"
    },
    {
      "cell_type": "code",
      "source": [
        "temp = dfs[\"coupon_redempt\"].household_key.value_counts().sort_index()\n",
        "no_of_rede_per_household = pd.DataFrame(list(zip(temp.index,temp.values.astype(int))),columns=[\"household_key\",\"no_of_redeems\"])"
      ],
      "metadata": {
        "trusted": true,
        "id": "Ht-nAfCRBKHP"
      },
      "execution_count": null,
      "outputs": [],
      "id": "Ht-nAfCRBKHP"
    },
    {
      "cell_type": "markdown",
      "source": [
        "**Feature 5**: Most Frequent Campaign Type (A,B,C) received by each household:"
      ],
      "metadata": {
        "id": "iPc8zuF4BKHQ"
      },
      "id": "iPc8zuF4BKHQ"
    },
    {
      "cell_type": "code",
      "source": [
        "camp_list = dfs[\"campaign_table\"].groupby(\"household_key\")[\"DESCRIPTION\"].apply(list)\n",
        "most_freq_type = pd.DataFrame(list(zip(camp_list.index,[pd.Series(i).value_counts().idxmax() for i in camp_list])),columns=[\"household_key\",\"most_freq_camp_type\"])"
      ],
      "metadata": {
        "trusted": true,
        "id": "lK74EY6cBKHQ"
      },
      "execution_count": null,
      "outputs": [],
      "id": "lK74EY6cBKHQ"
    },
    {
      "cell_type": "markdown",
      "source": [
        "**Feature 6**: Top 20 stores with high number of households which have more high out weeks:"
      ],
      "metadata": {
        "id": "bQ__ru7hBKHQ"
      },
      "id": "bQ__ru7hBKHQ"
    },
    {
      "cell_type": "code",
      "source": [
        "store_per_house = dfs[\"transaction_data\"].groupby(\"household_key\")[\"STORE_ID\"].apply(list).apply(np.unique)\n",
        "\n",
        "churn_houses = set(target.household_key[target.isChurned == True].sort_values().values) & set(dfs[\"hh_demographic\"].household_key.unique())\n",
        "churn_stores = []\n",
        "for i in churn_houses:\n",
        "  churn_stores.extend(store_per_house[i])\n",
        "\n",
        "churn_stores = pd.Series(churn_stores).value_counts()/len(churn_houses)\n",
        "\n",
        "df_store = dfs[\"transaction_data\"].groupby([\"STORE_ID\",\"household_key\"]).count()[\"BASKET_ID\"].unstack(\"STORE_ID\")\n",
        "df_store.replace(np.nan,0,inplace=True)\n",
        "df_store[df_store>0] = 1\n",
        "\n",
        "#select the top stores with high number of churners\n",
        "df_store = df_store.loc[:,churn_stores.index[:20]]\n",
        "df_store.columns=[\"Store_\"+str(i) for i in df_store.columns]"
      ],
      "metadata": {
        "trusted": true,
        "id": "nTatdM4bBKHQ"
      },
      "execution_count": null,
      "outputs": [],
      "id": "nTatdM4bBKHQ"
    },
    {
      "cell_type": "markdown",
      "source": [
        "Feature 7: Amount of purchase of a household within two years:"
      ],
      "metadata": {
        "id": "oWtiA6KQBKHQ"
      },
      "id": "oWtiA6KQBKHQ"
    },
    {
      "cell_type": "code",
      "source": [
        "purc_per_cust = dfs[\"transaction_data\"].groupby(\"household_key\").sum()[\"SALES_VALUE\"].sort_values(ascending=False)\n",
        "purc_per_cust = pd.DataFrame(list(zip(purc_per_cust.index,purc_per_cust)),columns=[\"household_key\",\"Total Purchase (USD)\"])"
      ],
      "metadata": {
        "trusted": true,
        "id": "GKTUfuesBKHQ"
      },
      "execution_count": null,
      "outputs": [],
      "id": "GKTUfuesBKHQ"
    },
    {
      "cell_type": "markdown",
      "source": [
        "### Last touches on the dataset\n",
        "Generate the final dataframe to be used for predictive modelling"
      ],
      "metadata": {
        "id": "7AI1qTUABKHR"
      },
      "id": "7AI1qTUABKHR"
    },
    {
      "cell_type": "code",
      "source": [
        "data = pd.merge(dfs[\"hh_demographic\"],df_camp,on=\"household_key\",how=\"left\")\n",
        "data = pd.merge(data,no_of_received_campaigns,on=\"household_key\",how=\"left\")\n",
        "data = pd.merge(data,df_store,on=\"household_key\",how=\"left\")\n",
        "data = pd.merge(data,no_of_rede_per_household,on=\"household_key\",how=\"left\")\n",
        "data = pd.merge(data,most_freq_type,on=\"household_key\",how=\"left\")\n",
        "data = pd.merge(data,purc_per_cust,on=\"household_key\",how=\"left\")\n",
        "data = pd.merge(data,target,on=\"household_key\",how=\"left\")"
      ],
      "metadata": {
        "trusted": true,
        "id": "hmwTAiHfBKHR"
      },
      "execution_count": null,
      "outputs": [],
      "id": "hmwTAiHfBKHR"
    },
    {
      "cell_type": "code",
      "source": [
        "data.shape"
      ],
      "metadata": {
        "trusted": true,
        "id": "hLpzH6lVBKHR"
      },
      "execution_count": null,
      "outputs": [],
      "id": "hLpzH6lVBKHR"
    },
    {
      "cell_type": "markdown",
      "source": [
        "Now we have 91 features and a target variable in the final dataframe"
      ],
      "metadata": {
        "id": "98yix2aWBKHR"
      },
      "id": "98yix2aWBKHR"
    },
    {
      "cell_type": "code",
      "source": [
        "data.head()"
      ],
      "metadata": {
        "trusted": true,
        "id": "AgA_SMhsBKHR"
      },
      "execution_count": null,
      "outputs": [],
      "id": "AgA_SMhsBKHR"
    },
    {
      "cell_type": "markdown",
      "source": [
        "Change NaN or None/Unknown values to zero for the columns of \"number of received campaigns\", \"kid category\" and the \"number of redeems\""
      ],
      "metadata": {
        "id": "uqMjYQUbBKHR"
      },
      "id": "uqMjYQUbBKHR"
    },
    {
      "cell_type": "code",
      "source": [
        "data.no_of_received_campaigns.replace(np.nan,0,inplace=True)\n",
        "data.no_of_received_campaigns = data.no_of_received_campaigns.astype(int)\n",
        "data.no_of_redeems.replace(np.nan,0,inplace=True)"
      ],
      "metadata": {
        "trusted": true,
        "id": "VlM2w275BKHS"
      },
      "execution_count": null,
      "outputs": [],
      "id": "VlM2w275BKHS"
    },
    {
      "cell_type": "markdown",
      "source": [
        "Change other object type elements in the columns to integer for modeling purpose"
      ],
      "metadata": {
        "id": "7ydtWmHRBKHS"
      },
      "id": "7ydtWmHRBKHS"
    },
    {
      "cell_type": "code",
      "source": [
        "data.KID_CATEGORY_DESC.replace([\"None/Unknown\",\"3+\"],[0,3],inplace=True)\n",
        "data.KID_CATEGORY_DESC = data.KID_CATEGORY_DESC.astype(int)\n",
        "data.HOUSEHOLD_SIZE_DESC.replace(\"5+\",5,inplace=True)\n",
        "data.HOUSEHOLD_SIZE_DESC = data.HOUSEHOLD_SIZE_DESC.astype(int)\n",
        "data[\"Total Purchase (USD)\"] = data[\"Total Purchase (USD)\"].astype(int)"
      ],
      "metadata": {
        "trusted": true,
        "id": "ZnDY7ISQBKHS"
      },
      "execution_count": null,
      "outputs": [],
      "id": "ZnDY7ISQBKHS"
    },
    {
      "cell_type": "code",
      "source": [
        "data.info()"
      ],
      "metadata": {
        "trusted": true,
        "id": "6Qii75nDBKHS"
      },
      "execution_count": null,
      "outputs": [],
      "id": "6Qii75nDBKHS"
    },
    {
      "cell_type": "markdown",
      "source": [
        "Household_key is the ID of a household, therefore will not be used in the modelling. The rest of the data will be used."
      ],
      "metadata": {
        "id": "IXImPofUBKHS"
      },
      "id": "IXImPofUBKHS"
    },
    {
      "cell_type": "code",
      "source": [
        "data.dtypes.value_counts()"
      ],
      "metadata": {
        "trusted": true,
        "id": "BYasgpGSBKHT"
      },
      "execution_count": null,
      "outputs": [],
      "id": "BYasgpGSBKHT"
    },
    {
      "cell_type": "markdown",
      "source": [
        "Let's see how our features interact with the target variable. Start with the \"Age\" variable:\n",
        "\n",
        "* Households with the age of 55-64 tend to churn less then the rest of other age groups\n",
        "* No monotonic increase or decrease observed with age"
      ],
      "metadata": {
        "id": "y1YSxMkgBKHT"
      },
      "id": "y1YSxMkgBKHT"
    },
    {
      "cell_type": "code",
      "source": [
        "ax = sns.barplot(x=\"AGE_DESC\",y=\"isChurned\",data=data,order=[\"19-24\",\"25-34\",\"35-44\",\"45-54\",\"55-64\",\"65+\"])\n",
        "ax.axhline(y=data.isChurned.sum()/len(data),c=\"red\",label=\"population mean\")\n",
        "ax.legend()\n",
        "plt.show()"
      ],
      "metadata": {
        "trusted": true,
        "id": "AyEqHwvjBKHT"
      },
      "execution_count": null,
      "outputs": [],
      "id": "AyEqHwvjBKHT"
    },
    {
      "cell_type": "markdown",
      "source": [
        "Marital Status vs Churn rate:\n",
        "\n",
        "* Married couples (Group A) tend to churn more compared to singles (Group B)\n",
        "* Unknown (Group U) households increase the chun rate of the population"
      ],
      "metadata": {
        "id": "nJXpeiYlBKHT"
      },
      "id": "nJXpeiYlBKHT"
    },
    {
      "cell_type": "code",
      "source": [
        "ax = sns.barplot(x=\"MARITAL_STATUS_CODE\",y=\"isChurned\",data=data,order=[\"A\",\"B\",\"U\"])\n",
        "ax.axhline(y=data.isChurned.sum()/len(data),c=\"red\",label=\"population mean\")\n",
        "ax.legend()\n",
        "plt.show()"
      ],
      "metadata": {
        "trusted": true,
        "id": "nSHTfDUyBKHT"
      },
      "execution_count": null,
      "outputs": [],
      "id": "nSHTfDUyBKHT"
    },
    {
      "cell_type": "markdown",
      "source": [
        "Income vs Churn Rate:\n",
        "\n",
        "* No monotonic increase or decrease observed over the income groups\n",
        "* However as seen in the barchart below, no churn was observed when a household's income reaches to 175K and more (27 samples out of 801 households)"
      ],
      "metadata": {
        "id": "SWKybZugBKHT"
      },
      "id": "SWKybZugBKHT"
    },
    {
      "cell_type": "code",
      "source": [
        "fig = plt.figure(figsize=(8,5))\n",
        "ax = sns.barplot(x=\"INCOME_DESC\",y=\"isChurned\",data=data,\n",
        "                 order=[\"Under 15K\",\"15-24K\",\"25-34K\",\"35-49K\",\"50-74K\",\"75-99K\",\"100-124K\",\"125-149K\",\"150-174K\",\"175-199K\",\"200-249K\",\"250K+\"])\n",
        "ax.set_xticklabels(ax.get_xticklabels(),rotation=45)\n",
        "ax.axhline(y=data.isChurned.sum()/len(data),c=\"red\",label=\"population mean\")\n",
        "ax.legend()\n",
        "plt.show()"
      ],
      "metadata": {
        "trusted": true,
        "id": "I3eLQkf1BKHU"
      },
      "execution_count": null,
      "outputs": [],
      "id": "I3eLQkf1BKHU"
    },
    {
      "cell_type": "markdown",
      "source": [
        "Home Ownership vs Churn Rate:\n",
        "\n",
        "* No significant differences between owners and renters"
      ],
      "metadata": {
        "id": "bUwnhLfeBKHU"
      },
      "id": "bUwnhLfeBKHU"
    },
    {
      "cell_type": "code",
      "source": [
        "ax = sns.barplot(y=\"HOMEOWNER_DESC\",x=\"isChurned\",data=data,orient=\"h\")\n",
        "ax.axvline(x=data.isChurned.sum()/len(data),c=\"red\",label=\"population mean\")\n",
        "ax.legend()\n",
        "plt.show()"
      ],
      "metadata": {
        "trusted": true,
        "id": "SobkulfsBKHU"
      },
      "execution_count": null,
      "outputs": [],
      "id": "SobkulfsBKHU"
    },
    {
      "cell_type": "markdown",
      "source": [
        "Number of Redeems vs Churn Rate:\n",
        "\n",
        "Lets group our data based on household's number of redeems. We will use pandas.cut which groups the number of redeems into the bins. Graph below separates 0 redeemers, redeemed once and the final group redeemed more than once:\n",
        "\n",
        "* Churn rate decreases as the number of redeems increase"
      ],
      "metadata": {
        "id": "9sauo55jBKHU"
      },
      "id": "9sauo55jBKHU"
    },
    {
      "cell_type": "code",
      "source": [
        "ax = sns.barplot(y=pd.cut(data.no_of_redeems,bins=[-0.1,0,1,35],duplicates=\"drop\"),x=\"isChurned\",data=data,orient=\"h\")\n",
        "ax.axvline(x=data.isChurned.sum()/len(data),c=\"red\",label=\"population mean\")\n",
        "ax.legend()\n",
        "plt.show()"
      ],
      "metadata": {
        "trusted": true,
        "id": "4UaXmUFvBKHU"
      },
      "execution_count": null,
      "outputs": [],
      "id": "4UaXmUFvBKHU"
    },
    {
      "cell_type": "markdown",
      "source": [
        "Churn rate vs Number of campaigns received by a household\n",
        "\n",
        "* Churn rate decreases as the number of campaigns received by a household increases"
      ],
      "metadata": {
        "id": "KRolKmbmBKHU"
      },
      "id": "KRolKmbmBKHU"
    },
    {
      "cell_type": "code",
      "source": [
        "ax = sns.barplot(y=pd.qcut(data.no_of_received_campaigns,5,duplicates=\"drop\"),x=\"isChurned\",data=data,orient=\"h\")\n",
        "ax.axvline(x=data.isChurned.sum()/len(data),c=\"red\",label=\"population mean\")\n",
        "ax.legend()\n",
        "plt.show()"
      ],
      "metadata": {
        "trusted": true,
        "id": "5FQyg7p3BKHU"
      },
      "execution_count": null,
      "outputs": [],
      "id": "5FQyg7p3BKHU"
    },
    {
      "cell_type": "markdown",
      "source": [
        "Not very clear, however churn rate tends to decrease when children starts to appear in households"
      ],
      "metadata": {
        "id": "w2YPbGixBKHV"
      },
      "id": "w2YPbGixBKHV"
    },
    {
      "cell_type": "code",
      "source": [
        "ax = sns.barplot(y=\"HH_COMP_DESC\",x=\"isChurned\",data=data,orient=\"h\",order=['Unknown','Single Female','Single Male','2 Adults No Kids','2 Adults Kids','1 Adult Kids'])\n",
        "ax.axvline(x=data.isChurned.sum()/len(data),c=\"red\",label=\"population mean\")\n",
        "ax.legend()\n",
        "plt.show()"
      ],
      "metadata": {
        "trusted": true,
        "id": "KlKf-d_4BKHV"
      },
      "execution_count": null,
      "outputs": [],
      "id": "KlKf-d_4BKHV"
    },
    {
      "cell_type": "markdown",
      "source": [
        "Churn rate tends to decrease as the number of family members increases"
      ],
      "metadata": {
        "id": "Jz9shBXuBKHV"
      },
      "id": "Jz9shBXuBKHV"
    },
    {
      "cell_type": "code",
      "source": [
        "ax = sns.barplot(y=\"HOUSEHOLD_SIZE_DESC\",x=\"isChurned\",data=data,orient=\"h\")\n",
        "ax.axvline(x=data.isChurned.sum()/len(data),c=\"red\",label=\"population mean\")\n",
        "ax.legend()\n",
        "plt.show()"
      ],
      "metadata": {
        "trusted": true,
        "id": "IwJa3FV7BKHV"
      },
      "execution_count": null,
      "outputs": [],
      "id": "IwJa3FV7BKHV"
    },
    {
      "cell_type": "markdown",
      "source": [
        "Campaign Type vs Churn rate:\n",
        "\n",
        "* TypeC campaign fails as all households which was approached with campaign C are churned. However note that it has extremely lower sample size (1% of all population)\n",
        "* TypeB is the most successful one with the lowest churn rate"
      ],
      "metadata": {
        "id": "Niba-s9yBKHV"
      },
      "id": "Niba-s9yBKHV"
    },
    {
      "cell_type": "code",
      "source": [
        "ax = sns.barplot(y=\"most_freq_camp_type\",x=\"isChurned\",data=data,orient=\"h\",order=['TypeA','TypeB','TypeC'])\n",
        "ax.axvline(x=data.isChurned.sum()/len(data),c=\"red\",label=\"population mean\")\n",
        "ax.legend()\n",
        "plt.show()"
      ],
      "metadata": {
        "trusted": true,
        "id": "5QFmmAj6BKHV"
      },
      "execution_count": null,
      "outputs": [],
      "id": "5QFmmAj6BKHV"
    },
    {
      "cell_type": "markdown",
      "source": [
        "Total purchase of a household vs Churn rate:\n",
        "\n",
        "* Total purchase amount of a customer is a clear separator, expected to perform well as a feature in the churn prediction model\n",
        "* Churn rate decreases as total amount of purchase of a household (within 2 years) increases"
      ],
      "metadata": {
        "id": "lHz44pJwBKHW"
      },
      "id": "lHz44pJwBKHW"
    },
    {
      "cell_type": "code",
      "source": [
        "ax = sns.barplot(y=pd.qcut(data[\"Total Purchase (USD)\"],5,duplicates=\"drop\"),x=\"isChurned\",data=data,orient=\"h\")\n",
        "ax.axvline(x=data.isChurned.sum()/len(data),c=\"red\",label=\"population mean\")\n",
        "ax.legend()\n",
        "plt.show()"
      ],
      "metadata": {
        "trusted": true,
        "id": "isY3k-aaBKHW"
      },
      "execution_count": null,
      "outputs": [],
      "id": "isY3k-aaBKHW"
    },
    {
      "cell_type": "markdown",
      "source": [
        "Correlation between Campaign Number and the Target (isChurned) are calculated and displayed in the barchart below:\n",
        "\n",
        "* Campaign 25 as a feature expected to be performing well in the model as it has the highest correlation with the target variable"
      ],
      "metadata": {
        "id": "0vQWrm4cBKHW"
      },
      "id": "0vQWrm4cBKHW"
    },
    {
      "cell_type": "code",
      "source": [
        "corrs = abs(data[[\"Camp_\"+str(i) if i<31 else \"isChurned\" for i in range(1,32)]].corr()[\"isChurned\"])\n",
        "corrs.drop(\"isChurned\",inplace=True)\n",
        "corrs = pd.DataFrame(list(zip(corrs.index,corrs)),columns=[\"Campaign No.\",\"Correlation with Target\"]).sort_values(by=\"Correlation with Target\",ascending=False)\n",
        "fig_store = plt.figure(figsize=(10,8))\n",
        "sns.barplot(y=\"Campaign No.\",x=\"Correlation with Target\",data = corrs,orient=\"h\")\n",
        "plt.show()"
      ],
      "metadata": {
        "trusted": true,
        "id": "6saFMJPXBKHW"
      },
      "execution_count": null,
      "outputs": [],
      "id": "6saFMJPXBKHW"
    },
    {
      "cell_type": "markdown",
      "source": [
        "Correlation between the stores with high number of churner customers and the Target (isChurned) are calculated and displayed in the barchart below:"
      ],
      "metadata": {
        "id": "XLeSMOEbBKHW"
      },
      "id": "XLeSMOEbBKHW"
    },
    {
      "cell_type": "code",
      "source": [
        "cols =list(df_store.columns)\n",
        "cols.extend([\"isChurned\"])\n",
        "corrs = abs(data[cols].corr()[\"isChurned\"])\n",
        "corrs.drop(\"isChurned\",inplace=True)\n",
        "corrs = pd.DataFrame(list(zip(corrs.index,corrs)),columns=[\"Store ID\",\"Correlation with Target\"]).sort_values(by=\"Correlation with Target\",ascending=False)\n",
        "fig_store = plt.figure(figsize=(10,6))\n",
        "sns.barplot(y=\"Store ID\",x=\"Correlation with Target\",data = corrs,orient=\"h\")\n",
        "plt.show()"
      ],
      "metadata": {
        "trusted": true,
        "id": "0ZGd8AJnBKHW"
      },
      "execution_count": null,
      "outputs": [],
      "id": "0ZGd8AJnBKHW"
    },
    {
      "cell_type": "markdown",
      "source": [
        "### ML Model Training & Testing\n",
        "In this section we will train a Machine Learning model with the training data. The machine learning model is chosen as XGBoost (Extreme Gradient Boosting) as they are known to be performing well with imbalanced datasets like ours."
      ],
      "metadata": {
        "id": "HxAeFfF_BKHX"
      },
      "id": "HxAeFfF_BKHX"
    },
    {
      "cell_type": "code",
      "source": [
        "from sklearn.ensemble import RandomForestClassifier\n",
        "from sklearn.model_selection import train_test_split\n",
        "from xgboost import XGBClassifier\n",
        "\n",
        "#one hot encoding categorical data for modelling\n",
        "encoded = pd.get_dummies(data[data.columns[data.dtypes==object]])\n",
        "data_encoded = pd.concat([encoded, data[data.columns[data.dtypes != object]]],axis=1)\n",
        "\n",
        "#Features (X) and the target (y)\n",
        "X = data_encoded.drop(\"isChurned\",axis=1)\n",
        "y = data_encoded.isChurned\n",
        "\n",
        "#lets start with the default hyperparameters and hold-out mechanism for train/test split\n",
        "X_train,X_test,y_train,y_test = train_test_split(X,y,test_size=0.25)\n",
        "\n",
        "#XGBoost\n",
        "xgb_mdl = XGBClassifier().fit(X_train.values,y_train.values)\n",
        "xgb_mdl"
      ],
      "metadata": {
        "trusted": true,
        "id": "t6HHqos3BKHX"
      },
      "execution_count": null,
      "outputs": [],
      "id": "t6HHqos3BKHX"
    },
    {
      "cell_type": "markdown",
      "source": [
        "We first transformed our categorical variables using one-hot encoding algorithm (get_dummies) to be able to use in our classifier. Then separated the data into train and test 75%/25%. Then generated an XGBoost classifier with it's default parameters and trained it with the training set.\n",
        "\n",
        "Now let's test our trained classifier with test data:"
      ],
      "metadata": {
        "id": "T5fHuHLJBKHX"
      },
      "id": "T5fHuHLJBKHX"
    },
    {
      "cell_type": "code",
      "source": [
        "from sklearn.metrics import classification_report, roc_auc_score, confusion_matrix, average_precision_score\n",
        "\n",
        "#XGBoost\n",
        "y_pred_train = xgb_mdl.predict(X_train.values)\n",
        "y_pred = xgb_mdl.predict(X_test.values)\n",
        "\n",
        "print(\"Train Data Classification Report:\\n\")\n",
        "print(classification_report(y_train,y_pred_train))\n",
        "\n",
        "print(\"Test Data Classification Report:\\n\")\n",
        "print(classification_report(y_test,y_pred))\n",
        "\n",
        "#generate a confusion matrix to visualise precision, recall, misclassification and false alarms\n",
        "cm = pd.DataFrame(confusion_matrix(y_test, y_pred), index = list(set(y)), columns = list(set(y)))\n",
        "\n",
        "#visualise the confusion matrix in the heatmap form\n",
        "plt.figure()\n",
        "sns.heatmap(cm, annot = True, fmt=\"d\",\n",
        "            cmap=sns.color_palette(\"GnBu\")).set(xlabel='predicted values',\n",
        "                                                ylabel='real values',\n",
        "                                                title = 'Confusion Matrix')"
      ],
      "metadata": {
        "trusted": true,
        "id": "2whGpYLgBKHX"
      },
      "execution_count": null,
      "outputs": [],
      "id": "2whGpYLgBKHX"
    },
    {
      "cell_type": "code",
      "source": [
        "roc_auc_score(y_test,y_pred)\n",
        "# average_precision_score(y_test,y_pred)"
      ],
      "metadata": {
        "trusted": true,
        "id": "7_ZMfOHvBKHX"
      },
      "execution_count": null,
      "outputs": [],
      "id": "7_ZMfOHvBKHX"
    },
    {
      "cell_type": "markdown",
      "source": [
        "Even though accuracy for the test set is 88% it is misleading as our target variable is skewed towards not churned (86% are not churned). Even a very basic model which selects majority class all times would score 86% accuracy.\n",
        "\n",
        "Therefore we will have to focus on how well our model performs on the minority class (churned households). On the test set we have 201 samples only 23 of them being churned. Our model could not manage to detect any of them, therefore test set recall has come out as 0%. This is the part we need to aim to increase.\n",
        "\n",
        "Now lets try to enhance our model by optimising hyperparameters by using \"Randomised Search\" with \"Cross-Validation\".\n",
        "\n",
        "We need to determine the evaluation criteria (scorer) to be optimised for the Randomised Search. Lets see the available scorers:\n",
        "\n",
        "* average precision, balanced accuracy, roc_auc, f1 are the scorers which are commonly used for imbalanced dataset classifications as they handle situation well as compared to other metrics"
      ],
      "metadata": {
        "id": "5optoKsABKHY"
      },
      "id": "5optoKsABKHY"
    },
    {
      "cell_type": "code",
      "source": [
        "import sklearn\n",
        "sorted(sklearn.metrics.SCORERS.keys())"
      ],
      "metadata": {
        "trusted": true,
        "id": "w1wXQBXYBKHY"
      },
      "execution_count": null,
      "outputs": [],
      "id": "w1wXQBXYBKHY"
    },
    {
      "cell_type": "code",
      "source": [
        "from sklearn.model_selection import GridSearchCV, RepeatedStratifiedKFold, RandomizedSearchCV\n",
        "\n",
        "#handle class imbalance problem by undersampling (not used)\n",
        "# no_churn_down_sampled = data_encoded[data_encoded.isChurned == False].sample(sum(data_encoded.isChurned))\n",
        "# data_encoded_balanced = pd.concat([no_churn_down_sampled,data_encoded[data_encoded.isChurned]])\n",
        "#shuffle the dataset to avoiding sampling biases\n",
        "# data = data_encoded_balanced.sample(frac=1)\n",
        "\n",
        "#shuffle the dataset to avoiding sampling biases\n",
        "data = data_encoded.sample(frac=1)\n",
        "X = data.drop(\"isChurned\",axis=1)\n",
        "y = data.isChurned\n",
        "\n",
        "#generate an XGB classifier\n",
        "mdl = XGBClassifier()\n",
        "\n",
        "#parameter ranges\n",
        "param_list = {\n",
        "    'silent': [False],\n",
        "    'max_depth': range(2,51),\n",
        "    'learning_rate': [0.001, 0.01, 0.1, 0.15],\n",
        "    'subsample': np.arange(0,1.1,.1),\n",
        "    'colsample_bytree': np.arange(0,1.1,.1),\n",
        "    'colsample_bylevel': np.arange(0,1.1,.1),\n",
        "    'min_child_weight': [0.5, 0.7, 1.0, 2.0, 3.0],\n",
        "    'gamma': [0, 0.25, 0.5, 0.75, 0.9, 1.0],\n",
        "    'reg_lambda': [0.1, 1.0, 5.0, 10.0, 50.0, 100.0, 500.0, 1000.0],\n",
        "    'n_estimators': [2, 5, 10, 20, 50, 100],\n",
        "    'scale_pos_weight': [1, 1.5, 2, 6, 6.1, 6.3, 6.5, 8],\n",
        "    'max_delta_step': [1, 2, 3, 5, 10]\n",
        "}\n",
        "\n",
        "kfold = 5\n",
        "cv_strat = RepeatedStratifiedKFold(n_splits=kfold,n_repeats=10)\n",
        "\n",
        "#Randomized Search\n",
        "# cv = RandomizedSearchCV(mdl,param_list,cv=cv_strat,n_iter=100,verbose=1,scoring=\"roc_auc\",n_jobs=-1).fit(X.values,y.values)\n",
        "cv = RandomizedSearchCV(mdl,param_list,cv=cv_strat,n_iter=100,verbose=1,scoring=\"balanced_accuracy\",n_jobs=-1).fit(X.values,y.values)\n",
        "# cv = RandomizedSearchCV(mdl,param_list,cv=cv_strat,n_iter=100,verbose=1,scoring=\"average_precision\",n_jobs=-1).fit(X.values,y.values)\n",
        "\n",
        "#use the best estimator after the hyperparameter optimisation\n",
        "mdl_best = cv.best_estimator_"
      ],
      "metadata": {
        "trusted": true,
        "id": "fPzr8cfMBKHY"
      },
      "execution_count": null,
      "outputs": [],
      "id": "fPzr8cfMBKHY"
    },
    {
      "cell_type": "markdown",
      "source": [
        "Hyperparameter optimisation is completed. Now lets train and test the XGBoost Classifier with the optimised hyperparameters"
      ],
      "metadata": {
        "id": "04PQiPKhBKHY"
      },
      "id": "04PQiPKhBKHY"
    },
    {
      "cell_type": "code",
      "source": [
        "cv.best_params_"
      ],
      "metadata": {
        "trusted": true,
        "id": "zjG9l-2YBKHY"
      },
      "execution_count": null,
      "outputs": [],
      "id": "zjG9l-2YBKHY"
    },
    {
      "cell_type": "markdown",
      "source": [
        "_scale_pos_weight_ is the parameter used for biasing (weighing more) of the minority class samples. The higher the value the more bias towards minority class. In our dataset, the ratio between majority class samples and the minority class is 6.15 which coheres with this parameter (optimised value came out as 6).\n",
        "\n",
        "Lets test our optimised model with the data:"
      ],
      "metadata": {
        "id": "VZxDf4K3BKHY"
      },
      "id": "VZxDf4K3BKHY"
    },
    {
      "cell_type": "code",
      "source": [
        "from sklearn.model_selection import cross_val_predict, cross_val_score, cross_validate\n",
        "\n",
        "cv_strat = RepeatedStratifiedKFold(n_splits=kfold,n_repeats=20)\n",
        "scores = cross_validate(mdl_best,X.values,y.values,cv=cv_strat,verbose=3,n_jobs=-1,return_train_score=True,\n",
        "                        scoring={\"roc_auc\":\"roc_auc\",\n",
        "                                 \"recall\":\"recall\",\n",
        "                                 \"precision\":\"precision\",\n",
        "                                 \"accuracy\":\"accuracy\",\n",
        "                                 \"balanced_accuracy\":\"balanced_accuracy\",\n",
        "                                 \"average_precision\":\"average_precision\"})\n",
        "\n",
        "pd.DataFrame(pd.DataFrame(scores).mean(),columns=[\"Score\"]).drop([\"fit_time\",\"score_time\"])"
      ],
      "metadata": {
        "trusted": true,
        "id": "UecYc-UqBKHZ"
      },
      "execution_count": null,
      "outputs": [],
      "id": "UecYc-UqBKHZ"
    },
    {
      "cell_type": "markdown",
      "source": [
        "Even though getting lower accuracy in total, now we are getting much better results for the minority class as recall and ROC AUC (receiver operating characteristics, area under curve) increased significantly.\n",
        "\n",
        "The score table above gives all metric results for both test and train sets. Train and test results are close which is an indication that our model did not overfit.\n",
        "\n",
        "Let's check which parameters were more important to separate churners/non churners. The barchart below list the features ordered by their importance values for the XGB Classifier.\n",
        "\n",
        "As expected, \"Total Purchase\", \"Number of Received Campaigns\", \"Campaign no. 25\", and \"Numer of redeems\" features are the most important features for the classifier. As we recall from feature engineering section, these features were either a good separator or highly correlated to the target variable."
      ],
      "metadata": {
        "id": "xPrt_inkBKHZ"
      },
      "id": "xPrt_inkBKHZ"
    },
    {
      "cell_type": "code",
      "source": [
        "feat_imp = pd.DataFrame(list(zip(data.columns,mdl_best.feature_importances_)),columns=[\"Feature\",\"Importance\"]).sort_values(by=\"Importance\",ascending=False)\n",
        "fig_store = plt.figure(figsize=(10,20))\n",
        "sns.barplot(y=\"Feature\",x=\"Importance\",data = feat_imp,orient=\"h\")\n",
        "plt.show()"
      ],
      "metadata": {
        "trusted": true,
        "id": "VxOAiVFKBKHZ"
      },
      "execution_count": null,
      "outputs": [],
      "id": "VxOAiVFKBKHZ"
    }
  ],
  "metadata": {
    "colab": {
      "provenance": []
    },
    "kernelspec": {
      "display_name": "Python 3",
      "name": "python3"
    },
    "language_info": {
      "name": "python"
    }
  },
  "nbformat": 4,
  "nbformat_minor": 5
}